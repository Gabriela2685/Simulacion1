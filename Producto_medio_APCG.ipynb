{
  "nbformat": 4,
  "nbformat_minor": 0,
  "metadata": {
    "colab": {
      "provenance": [],
      "authorship_tag": "ABX9TyOqhYk9MuSG5jalytqZE21w",
      "include_colab_link": true
    },
    "kernelspec": {
      "name": "python3",
      "display_name": "Python 3"
    },
    "language_info": {
      "name": "python"
    }
  },
  "cells": [
    {
      "cell_type": "markdown",
      "metadata": {
        "id": "view-in-github",
        "colab_type": "text"
      },
      "source": [
        "<a href=\"https://colab.research.google.com/github/Gabriela2685/Simulacion1/blob/main/Producto_medio_APCG.ipynb\" target=\"_parent\"><img src=\"https://colab.research.google.com/assets/colab-badge.svg\" alt=\"Open In Colab\"/></a>"
      ]
    },
    {
      "cell_type": "markdown",
      "source": [
        "# Producto medio\n",
        "Carmen Gabriela Angulo Payán\n"
      ],
      "metadata": {
        "id": "jXqG8JAmg3fb"
      }
    },
    {
      "cell_type": "code",
      "source": [
        "#Programa\n",
        "x0 = 123\n",
        "x1 = 456\n",
        "\n",
        "for _ in range(5):\n",
        "    producto_semillas = x0 * x1\n",
        "    # Convertimos nuestro resultado en una lista de dígitos\n",
        "    cadena = [int(digito) for digito in str(producto_semillas)]\n",
        "    # Tomamos los valores centrales y los pasamos de str a int\n",
        "    nueva_sem = int(''.join(map(str, cadena[1:4])))\n",
        "\n",
        "    print('Ahora x1 es:', nueva_sem, 'y x0:', x1)\n",
        "\n",
        "    x0 = x1\n",
        "    x1 = nueva_sem"
      ],
      "metadata": {
        "colab": {
          "base_uri": "https://localhost:8080/"
        },
        "outputId": "000804e5-550e-4c95-dd77-05b7d3c28862",
        "id": "BWqOY9z3lk10"
      },
      "execution_count": null,
      "outputs": [
        {
          "output_type": "stream",
          "name": "stdout",
          "text": [
            "Ahora x1 es: 608 y x0: 456\n",
            "Ahora x1 es: 772 y x0: 608\n",
            "Ahora x1 es: 693 y x0: 772\n",
            "Ahora x1 es: 349 y x0: 693\n",
            "Ahora x1 es: 418 y x0: 349\n"
          ]
        }
      ]
    }
  ]
}