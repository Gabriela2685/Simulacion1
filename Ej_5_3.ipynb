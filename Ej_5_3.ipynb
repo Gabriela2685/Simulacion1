{
  "nbformat": 4,
  "nbformat_minor": 0,
  "metadata": {
    "colab": {
      "provenance": [],
      "authorship_tag": "ABX9TyMbPLupATawLrR69sPo2Xy9",
      "include_colab_link": true
    },
    "kernelspec": {
      "name": "python3",
      "display_name": "Python 3"
    },
    "language_info": {
      "name": "python"
    }
  },
  "cells": [
    {
      "cell_type": "markdown",
      "metadata": {
        "id": "view-in-github",
        "colab_type": "text"
      },
      "source": [
        "<a href=\"https://colab.research.google.com/github/Gabriela2685/Simulacion1/blob/main/Ej_5_3.ipynb\" target=\"_parent\"><img src=\"https://colab.research.google.com/assets/colab-badge.svg\" alt=\"Open In Colab\"/></a>"
      ]
    },
    {
      "cell_type": "code",
      "execution_count": 2,
      "metadata": {
        "id": "b3om7ILKepCh"
      },
      "outputs": [],
      "source": [
        "import random as rnd\n"
      ]
    },
    {
      "cell_type": "code",
      "source": [
        "def no_autos(R, intervalos):           # Definimos una funcion que asigne el numero de demanda para cada mes\n",
        "  for inicio, fin, valor in intervalos:     # en los intervalos que despues se proponen, a traves de un num aleatorio R\n",
        "    if inicio <= R < fin:\n",
        "      return valor\n",
        "  return None"
      ],
      "metadata": {
        "id": "yeo0Rac8e1yW"
      },
      "execution_count": 3,
      "outputs": []
    },
    {
      "cell_type": "code",
      "source": [
        "def dias_rentado(R, dias):           # Definimos una funcion que asigne el numero de demanda para cada mes\n",
        "  for inicio, fin, valor in dias:     # en los intervalos que despues se proponen, a traves de un num aleatorio R\n",
        "    if inicio <= R < fin:\n",
        "      return valor\n",
        "  return None"
      ],
      "metadata": {
        "id": "g5RmQzmwe9M9"
      },
      "execution_count": 7,
      "outputs": []
    },
    {
      "cell_type": "code",
      "source": [
        "def compra_autos():\n",
        "   intervalos = [                                     # Dependiendo de donde caiga mi R se le asigna un valor a x\n",
        "        (0.00, 0.10, 0), (0.10, 0.20, 1), (0.20, 0.45, 2),\n",
        "        (0.45, 0.75, 3), (0.75, 1.00, 4),\n",
        "   ]\n",
        "\n",
        "   dias = [                                     # Dependiendo de donde caiga mi R se le asigna un valor a x\n",
        "        (0.00, 0.40, 1), (0.40, 0.75, 2), (0.75, 0.90, 3),\n",
        "        (0.90, 1.00, 4),\n",
        "   ]\n",
        "\n",
        "   Start = 4\n",
        "   Insuficiente = 0\n",
        "\n",
        "   for dia in range(1,10):\n",
        "    R = rnd.random()\n",
        "    x = no_autos(R, intervalos) # Autos rentados\n",
        "\n",
        "    y_total = []\n",
        "    if x > Start:\n",
        "      I = x - Start\n",
        "      Insuficiente = [I]\n",
        "      y_total = [0]*x\n",
        "    else:\n",
        "      Insuficiente = [0]\n",
        "      for _ in range(x):\n",
        "        y = dias_rentado(R, dias)\n",
        "        y_total.append(y)\n",
        "\n",
        "    for elemento in y_total:\n",
        "      if elemento == dia:\n",
        "        Start += elemento\n",
        "\n",
        "    Ocioso = Start - x\n",
        "    if Ocioso < 0:\n",
        "      Ocioso = 0\n",
        "\n",
        "    print(f\"Día: {dia},Inicio: {Start}, x: {x}, Insuf: {Insuficiente}, ytotal: {y_total}, ocioso: {Ocioso}\")\n",
        "\n",
        "\n",
        "    Start = Ocioso\n",
        "\n",
        "compra_autos()"
      ],
      "metadata": {
        "colab": {
          "base_uri": "https://localhost:8080/"
        },
        "id": "Y9Sql0FwfDa4",
        "outputId": "c2d2a9fa-2af4-4d74-ec0c-8de3807ca523"
      },
      "execution_count": 75,
      "outputs": [
        {
          "output_type": "stream",
          "name": "stdout",
          "text": [
            "Día: 1,Inicio: 4, x: 2, Insuf: [0], ytotal: [2, 2], ocioso: 2\n",
            "Día: 2,Inicio: 2, x: 4, Insuf: [2], ytotal: [0, 0, 0, 0], ocioso: 0\n",
            "Día: 3,Inicio: 0, x: 3, Insuf: [3], ytotal: [0, 0, 0], ocioso: 0\n",
            "Día: 4,Inicio: 0, x: 2, Insuf: [2], ytotal: [0, 0], ocioso: 0\n",
            "Día: 5,Inicio: 0, x: 3, Insuf: [3], ytotal: [0, 0, 0], ocioso: 0\n",
            "Día: 6,Inicio: 0, x: 2, Insuf: [2], ytotal: [0, 0], ocioso: 0\n",
            "Día: 7,Inicio: 0, x: 0, Insuf: [0], ytotal: [], ocioso: 0\n",
            "Día: 8,Inicio: 0, x: 4, Insuf: [4], ytotal: [0, 0, 0, 0], ocioso: 0\n",
            "Día: 9,Inicio: 0, x: 3, Insuf: [3], ytotal: [0, 0, 0], ocioso: 0\n"
          ]
        }
      ]
    }
  ]
}