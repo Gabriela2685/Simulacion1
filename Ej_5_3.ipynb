{
  "nbformat": 4,
  "nbformat_minor": 0,
  "metadata": {
    "colab": {
      "provenance": [],
      "include_colab_link": true
    },
    "kernelspec": {
      "name": "python3",
      "display_name": "Python 3"
    },
    "language_info": {
      "name": "python"
    }
  },
  "cells": [
    {
      "cell_type": "markdown",
      "metadata": {
        "id": "view-in-github",
        "colab_type": "text"
      },
      "source": [
        "<a href=\"https://colab.research.google.com/github/Gabriela2685/Simulacion1/blob/main/Ej_5_3.ipynb\" target=\"_parent\"><img src=\"https://colab.research.google.com/assets/colab-badge.svg\" alt=\"Open In Colab\"/></a>"
      ]
    },
    {
      "cell_type": "code",
      "execution_count": 1,
      "metadata": {
        "id": "b3om7ILKepCh"
      },
      "outputs": [],
      "source": [
        "import random as rnd\n"
      ]
    },
    {
      "cell_type": "code",
      "source": [
        "def no_autos(R, intervalos):           # Definimos una funcion que asigne el numero de demanda para cada dia\n",
        "  for inicio, fin, valor in intervalos:     # en los intervalos que despues se proponen, a traves de un num aleatorio R\n",
        "    if inicio <= R < fin:\n",
        "      return valor\n",
        "  return None"
      ],
      "metadata": {
        "id": "yeo0Rac8e1yW"
      },
      "execution_count": 2,
      "outputs": []
    },
    {
      "cell_type": "code",
      "source": [
        "def dias_rentado(M, dias):           # Definimos una funcion que asigne el num de dias que se rentara cada auto\n",
        "  for inicio, fin, valor in dias:     # en los intervalos que despues se proponen, a traves de un num aleatorio R\n",
        "    if inicio <= M < fin:\n",
        "      return valor\n",
        "  return None"
      ],
      "metadata": {
        "id": "g5RmQzmwe9M9"
      },
      "execution_count": 3,
      "outputs": []
    },
    {
      "cell_type": "code",
      "source": [
        "def compra_autos():\n",
        "   intervalos = [                               # Dependiendo de donde caiga mi R son los autos rentados\n",
        "        (0.00, 0.10, 0), (0.10, 0.20, 1), (0.20, 0.45, 2),\n",
        "        (0.45, 0.75, 3), (0.75, 1.00, 4),\n",
        "   ]\n",
        "\n",
        "   dias = [                                     # Dependiendo de donde caiga mi R son los dias rentados\n",
        "        (0.00, 0.40, 1), (0.40, 0.75, 2), (0.75, 0.90, 3),\n",
        "        (0.90, 1.00, 4),\n",
        "   ]\n",
        "\n",
        "   Start = 4    # Iniciamos con 4 autos\n",
        "   agregados = 0\n",
        "\n",
        "   for dia in range(1,11):    #En un rango de 10 dias vemos como se comporta la funcion\n",
        "    R = rnd.random()          # Num aleatorio\n",
        "    x = no_autos(R, intervalos)    # Autos rentados\n",
        "\n",
        "    y_total = []\n",
        "    if x > Start:   # Si la demanda es mayor a los autos disponibles\n",
        "      Insuficiente = x - Start     # Muestra los autos que no cubrimos\n",
        "      for _ in range(Start):\n",
        "        M = rnd.random()           # Asigna el numero de dias que se rentaran los autos disponibles\n",
        "        y = dias_rentado(M,dias)   # para cada auto\n",
        "        y_total.append(y)          # Agregamos a la lista los días asignados\n",
        "    else:\n",
        "      Insuficiente = 0             # Si contamos con la cantidad pedida la demanda insatisfecha sera 0\n",
        "      for _ in range(x):           # Asignaremos los dias que se rentara cada auto\n",
        "        M = rnd.random()\n",
        "        y = dias_rentado(M, dias)\n",
        "        y_total.append(y)          # Los agragamos a la lista\n",
        "\n",
        "    autos_devueltos = []           # Esta lista nos indicara el dia que deberan regresar los autos\n",
        "    for elemento in y_total:       # Itera sobre los dias que se rento cada auto\n",
        "      dia_a_devolver = elemento + dia        # Suma los dias de renta más el dia actual\n",
        "      autos_devueltos.append(dia_a_devolver)    # Los agrega a la lista\n",
        "\n",
        "    Ocioso = Start - x     # Ocioso sera igual los carros con los que iniciamos menos los que se rentaron\n",
        "    if Ocioso < 0:         # Si ocioso es negativo quiere decir que no hay carros sin rentarse\n",
        "      Ocioso = 0           # por lo que sera 0\n",
        "\n",
        "    print(f\"Día: {dia},Inicio: {Start}, Autos rentados: {x}, Insuf: {Insuficiente}, Cantidad de dias a rentar: {y_total}, Dia que se devolveran: {autos_devueltos}, Ocioso: {Ocioso}\")\n",
        "\n",
        "    for element in autos_devueltos:  # Iteramos sobre la lista que indica en que dia deberan regresar los autos\n",
        "      if  element == dia:        # Si un elemento de la lista es igual al dia en que estamos\n",
        "        agregados += 1            # Aumente el contador de agregados\n",
        "        Start = Ocioso + agregados    # Start iniciara con los autos ociosos del dia anterior mas los que llegaron\n",
        "      else:\n",
        "        Start = Ocioso   # Sino Start iniciara con la cantidad de autos ociosos del dia anterior\n",
        "\n",
        "\n",
        "compra_autos()\n"
      ],
      "metadata": {
        "colab": {
          "base_uri": "https://localhost:8080/"
        },
        "id": "Y9Sql0FwfDa4",
        "outputId": "6c076062-6ea2-4519-89ef-0ed8554b4517"
      },
      "execution_count": 8,
      "outputs": [
        {
          "output_type": "stream",
          "name": "stdout",
          "text": [
            "Día: 1,Inicio: 4, Autos rentados: 3, Insuf: 0, Cantidad de dias a rentar: [1, 2, 2], Dia que se devolveran: [2, 3, 3], Ocioso: 1\n",
            "Día: 2,Inicio: 1, Autos rentados: 1, Insuf: 0, Cantidad de dias a rentar: [3], Dia que se devolveran: [5], Ocioso: 0\n",
            "Día: 3,Inicio: 0, Autos rentados: 4, Insuf: 4, Cantidad de dias a rentar: [], Dia que se devolveran: [], Ocioso: 0\n",
            "Día: 4,Inicio: 0, Autos rentados: 2, Insuf: 2, Cantidad de dias a rentar: [], Dia que se devolveran: [], Ocioso: 0\n",
            "Día: 5,Inicio: 0, Autos rentados: 2, Insuf: 2, Cantidad de dias a rentar: [], Dia que se devolveran: [], Ocioso: 0\n",
            "Día: 6,Inicio: 0, Autos rentados: 3, Insuf: 3, Cantidad de dias a rentar: [], Dia que se devolveran: [], Ocioso: 0\n",
            "Día: 7,Inicio: 0, Autos rentados: 3, Insuf: 3, Cantidad de dias a rentar: [], Dia que se devolveran: [], Ocioso: 0\n",
            "Día: 8,Inicio: 0, Autos rentados: 2, Insuf: 2, Cantidad de dias a rentar: [], Dia que se devolveran: [], Ocioso: 0\n",
            "Día: 9,Inicio: 0, Autos rentados: 1, Insuf: 1, Cantidad de dias a rentar: [], Dia que se devolveran: [], Ocioso: 0\n",
            "Día: 10,Inicio: 0, Autos rentados: 4, Insuf: 4, Cantidad de dias a rentar: [], Dia que se devolveran: [], Ocioso: 0\n"
          ]
        }
      ]
    }
  ]
}