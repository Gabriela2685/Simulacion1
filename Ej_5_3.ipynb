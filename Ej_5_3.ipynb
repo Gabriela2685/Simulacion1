{
  "nbformat": 4,
  "nbformat_minor": 0,
  "metadata": {
    "colab": {
      "provenance": [],
      "authorship_tag": "ABX9TyPgD0X0ZN789RFNwln6zuMi",
      "include_colab_link": true
    },
    "kernelspec": {
      "name": "python3",
      "display_name": "Python 3"
    },
    "language_info": {
      "name": "python"
    }
  },
  "cells": [
    {
      "cell_type": "markdown",
      "metadata": {
        "id": "view-in-github",
        "colab_type": "text"
      },
      "source": [
        "<a href=\"https://colab.research.google.com/github/Gabriela2685/Simulacion1/blob/main/Ej_5_3.ipynb\" target=\"_parent\"><img src=\"https://colab.research.google.com/assets/colab-badge.svg\" alt=\"Open In Colab\"/></a>"
      ]
    },
    {
      "cell_type": "code",
      "execution_count": 1,
      "metadata": {
        "id": "b3om7ILKepCh"
      },
      "outputs": [],
      "source": [
        "import random as rnd\n"
      ]
    },
    {
      "cell_type": "code",
      "source": [
        "def no_autos(R, intervalos):           # Definimos una funcion que asigne el numero de demanda para cada mes\n",
        "  for inicio, fin, valor in intervalos:     # en los intervalos que despues se proponen, a traves de un num aleatorio R\n",
        "    if inicio <= R < fin:\n",
        "      return valor\n",
        "  return None"
      ],
      "metadata": {
        "id": "yeo0Rac8e1yW"
      },
      "execution_count": 15,
      "outputs": []
    },
    {
      "cell_type": "code",
      "source": [
        "def dias_rentado(M, dias):           # Definimos una funcion que asigne el numero de demanda para cada mes\n",
        "  for inicio, fin, valor in dias:     # en los intervalos que despues se proponen, a traves de un num aleatorio R\n",
        "    if inicio <= M < fin:\n",
        "      return valor\n",
        "  return None"
      ],
      "metadata": {
        "id": "g5RmQzmwe9M9"
      },
      "execution_count": 16,
      "outputs": []
    },
    {
      "cell_type": "code",
      "source": [
        "def compra_autos():\n",
        "   intervalos = [                                     # Dependiendo de donde caiga mi R se le asigna un valor a x\n",
        "        (0.00, 0.10, 0), (0.10, 0.20, 1), (0.20, 0.45, 2),\n",
        "        (0.45, 0.75, 3), (0.75, 1.00, 4),\n",
        "   ]\n",
        "\n",
        "   dias = [                                     # Dependiendo de donde caiga mi R se le asigna un valor a x\n",
        "        (0.00, 0.40, 1), (0.40, 0.75, 2), (0.75, 0.90, 3),\n",
        "        (0.90, 1.00, 4),\n",
        "   ]\n",
        "\n",
        "   Start = 4\n",
        "   #Insuficiente = 0\n",
        "\n",
        "   for dia in range(1,10):\n",
        "    R = rnd.random()\n",
        "    x = no_autos(R, intervalos) # Autos rentados\n",
        "\n",
        "    y_total = []\n",
        "    if x > Start:\n",
        "      Insuficiente = x - Start\n",
        "    else:\n",
        "      Insuficiente = 0\n",
        "      for _ in range(x):\n",
        "        M = rnd.random()\n",
        "        y = dias_rentado(M, dias)\n",
        "        y_total.append(y)\n",
        "\n",
        "    Ocioso = Start - x\n",
        "    if Ocioso < 0:\n",
        "      Ocioso = 0\n",
        "\n",
        "    autos_devueltos = []\n",
        "    for elemento in y_total:\n",
        "      dia_a_devolver = elemento + dia\n",
        "      autos_devueltos.append(dia_a_devolver)\n",
        "    a_dev = autos_devueltos.count(dia)\n",
        "\n",
        "    if autos_devueltos == dia:\n",
        "      Start = Ocioso + a_dev\n",
        "    else:\n",
        "      Start = Ocioso\n",
        "\n",
        "\n",
        "\n",
        "    print(f\"Día: {dia},Inicio: {Start}, x: {x}, Insuf: {Insuficiente}, ytotal: {y_total}, ocioso: {Ocioso}\")\n",
        "\n",
        "    Start = Ocioso\n",
        "\n",
        "compra_autos()\n"
      ],
      "metadata": {
        "colab": {
          "base_uri": "https://localhost:8080/"
        },
        "id": "Y9Sql0FwfDa4",
        "outputId": "dc6775fc-7e90-43ca-c360-29fad28719db"
      },
      "execution_count": 98,
      "outputs": [
        {
          "output_type": "stream",
          "name": "stdout",
          "text": [
            "Día: 1,Inicio: 2, x: 2, Insuf: 0, ytotal: [3, 4], ocioso: 2\n",
            "Día: 2,Inicio: 0, x: 2, Insuf: 0, ytotal: [3, 2], ocioso: 0\n",
            "Día: 3,Inicio: 0, x: 2, Insuf: 2, ytotal: [], ocioso: 0\n",
            "Día: 4,Inicio: 0, x: 3, Insuf: 3, ytotal: [], ocioso: 0\n",
            "Día: 5,Inicio: 0, x: 4, Insuf: 4, ytotal: [], ocioso: 0\n",
            "Día: 6,Inicio: 0, x: 2, Insuf: 2, ytotal: [], ocioso: 0\n",
            "Día: 7,Inicio: 0, x: 3, Insuf: 3, ytotal: [], ocioso: 0\n",
            "Día: 8,Inicio: 0, x: 3, Insuf: 3, ytotal: [], ocioso: 0\n",
            "Día: 9,Inicio: 0, x: 2, Insuf: 2, ytotal: [], ocioso: 0\n"
          ]
        }
      ]
    },
    {
      "cell_type": "code",
      "source": [
        "total = [3, 4, 5]\n",
        "resultado = []\n",
        "j = 0\n",
        "\n",
        "for elemento in total:\n",
        "    dia_de = elemento + 1\n",
        "    resultado.append(dia_de)\n",
        "    for elemento in resultado:\n",
        "      if elemento == 4:\n",
        "        j+1\n",
        "\n",
        "\n",
        "print(resultado,j)\n"
      ],
      "metadata": {
        "colab": {
          "base_uri": "https://localhost:8080/"
        },
        "id": "A_6MPTeNfRXB",
        "outputId": "d3f31bb8-443d-44e3-e982-fac1e137770a"
      },
      "execution_count": 95,
      "outputs": [
        {
          "output_type": "stream",
          "name": "stdout",
          "text": [
            "[4, 5, 6] 0\n"
          ]
        }
      ]
    },
    {
      "cell_type": "code",
      "source": [
        "total = [3, 4, 5]\n",
        "resultado = []\n",
        "j = 0\n",
        "\n",
        "for elemento in total:\n",
        "    dia_de = elemento + 1\n",
        "    resultado.append(dia_de)\n",
        "\n",
        "j = resultado.count(4)\n",
        "\n",
        "\n",
        "\n",
        "print(resultado, j)\n"
      ],
      "metadata": {
        "id": "gAQaLYVHg5WI",
        "outputId": "6fb3fdb0-8487-44e7-f740-df121c95167d",
        "colab": {
          "base_uri": "https://localhost:8080/"
        }
      },
      "execution_count": 96,
      "outputs": [
        {
          "output_type": "stream",
          "name": "stdout",
          "text": [
            "[4, 5, 6] 1\n"
          ]
        }
      ]
    }
  ]
}