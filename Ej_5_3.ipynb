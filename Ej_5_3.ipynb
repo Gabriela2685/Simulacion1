{
  "nbformat": 4,
  "nbformat_minor": 0,
  "metadata": {
    "colab": {
      "provenance": [],
      "include_colab_link": true
    },
    "kernelspec": {
      "name": "python3",
      "display_name": "Python 3"
    },
    "language_info": {
      "name": "python"
    }
  },
  "cells": [
    {
      "cell_type": "markdown",
      "metadata": {
        "id": "view-in-github",
        "colab_type": "text"
      },
      "source": [
        "<a href=\"https://colab.research.google.com/github/Gabriela2685/Simulacion1/blob/main/Ej_5_3.ipynb\" target=\"_parent\"><img src=\"https://colab.research.google.com/assets/colab-badge.svg\" alt=\"Open In Colab\"/></a>"
      ]
    },
    {
      "cell_type": "code",
      "execution_count": 1,
      "metadata": {
        "id": "b3om7ILKepCh"
      },
      "outputs": [],
      "source": [
        "import random as rnd\n"
      ]
    },
    {
      "cell_type": "code",
      "source": [
        "def no_autos(R, intervalos):           # Definimos una funcion que asigne el numero de demanda para cada mes\n",
        "  for inicio, fin, valor in intervalos:     # en los intervalos que despues se proponen, a traves de un num aleatorio R\n",
        "    if inicio <= R < fin:\n",
        "      return valor\n",
        "  return None"
      ],
      "metadata": {
        "id": "yeo0Rac8e1yW"
      },
      "execution_count": 2,
      "outputs": []
    },
    {
      "cell_type": "code",
      "source": [
        "def dias_rentado(M, dias):           # Definimos una funcion que asigne el numero de demanda para cada mes\n",
        "  for inicio, fin, valor in dias:     # en los intervalos que despues se proponen, a traves de un num aleatorio R\n",
        "    if inicio <= M < fin:\n",
        "      return valor\n",
        "  return None"
      ],
      "metadata": {
        "id": "g5RmQzmwe9M9"
      },
      "execution_count": 3,
      "outputs": []
    },
    {
      "cell_type": "code",
      "source": [
        "def compra_autos():\n",
        "   intervalos = [                                     # Dependiendo de donde caiga mi R son los autos rentados\n",
        "        (0.00, 0.10, 0), (0.10, 0.20, 1), (0.20, 0.45, 2),\n",
        "        (0.45, 0.75, 3), (0.75, 1.00, 4),\n",
        "   ]\n",
        "\n",
        "   dias = [                                     # Dependiendo de donde caiga mi R son los dias rentados\n",
        "        (0.00, 0.40, 1), (0.40, 0.75, 2), (0.75, 0.90, 3),\n",
        "        (0.90, 1.00, 4),\n",
        "   ]\n",
        "\n",
        "   Start = 4\n",
        "   agregados = 0\n",
        "\n",
        "   for dia in range(1,10):\n",
        "    R = rnd.random()\n",
        "    x = no_autos(R, intervalos) # Autos rentados\n",
        "\n",
        "    y_total = []\n",
        "    if x > Start:\n",
        "      Insuficiente = x - Start\n",
        "      for _ in range(Start):\n",
        "        M = rnd.random()\n",
        "        y = dias_rentado(M,dias)\n",
        "        y_total.append(y)\n",
        "    else:\n",
        "      Insuficiente = 0\n",
        "      for _ in range(x):\n",
        "        M = rnd.random()\n",
        "        y = dias_rentado(M, dias)\n",
        "        y_total.append(y)\n",
        "\n",
        "    autos_devueltos = []\n",
        "    for elemento in y_total:\n",
        "      dia_a_devolver = elemento + dia\n",
        "      autos_devueltos.append(dia_a_devolver)\n",
        "\n",
        "    Ocioso = Start - x\n",
        "    if Ocioso < 0:\n",
        "      Ocioso = 0\n",
        "\n",
        "    for element in autos_devueltos:   # No se si estuvo bn agregar esto\n",
        "      if element == dia:\n",
        "        agregados += 1\n",
        "\n",
        "\n",
        "\n",
        "    print(f\"Día: {dia},Inicio: {Start}, Autos rentados: {x}, Insuf: {Insuficiente}, Cantidad de dias a rentar: {y_total}, Dia que se devolveran: {autos_devueltos}, Ocioso: {Ocioso}\")\n",
        "    Start = Ocioso + agregados\n",
        "\n",
        "\n",
        "\n",
        "\n",
        "\n",
        "compra_autos()\n"
      ],
      "metadata": {
        "colab": {
          "base_uri": "https://localhost:8080/"
        },
        "id": "Y9Sql0FwfDa4",
        "outputId": "16c4a27d-44cc-4f6f-be47-f44d1771265b"
      },
      "execution_count": 71,
      "outputs": [
        {
          "output_type": "stream",
          "name": "stdout",
          "text": [
            "Día: 1,Inicio: 4, Autos rentados: 0, Insuf: 0, Cantidad de dias a rentar: [], Dia que se devolveran: [], Ocioso: 4\n",
            "Día: 2,Inicio: 4, Autos rentados: 2, Insuf: 0, Cantidad de dias a rentar: [1, 2], Dia que se devolveran: [3, 4], Ocioso: 2\n",
            "Día: 3,Inicio: 2, Autos rentados: 3, Insuf: 1, Cantidad de dias a rentar: [2, 1], Dia que se devolveran: [5, 4], Ocioso: 0\n",
            "Día: 4,Inicio: 0, Autos rentados: 4, Insuf: 4, Cantidad de dias a rentar: [], Dia que se devolveran: [], Ocioso: 0\n",
            "Día: 5,Inicio: 0, Autos rentados: 4, Insuf: 4, Cantidad de dias a rentar: [], Dia que se devolveran: [], Ocioso: 0\n",
            "Día: 6,Inicio: 0, Autos rentados: 4, Insuf: 4, Cantidad de dias a rentar: [], Dia que se devolveran: [], Ocioso: 0\n",
            "Día: 7,Inicio: 0, Autos rentados: 2, Insuf: 2, Cantidad de dias a rentar: [], Dia que se devolveran: [], Ocioso: 0\n",
            "Día: 8,Inicio: 0, Autos rentados: 4, Insuf: 4, Cantidad de dias a rentar: [], Dia que se devolveran: [], Ocioso: 0\n",
            "Día: 9,Inicio: 0, Autos rentados: 2, Insuf: 2, Cantidad de dias a rentar: [], Dia que se devolveran: [], Ocioso: 0\n"
          ]
        }
      ]
    }
  ]
}