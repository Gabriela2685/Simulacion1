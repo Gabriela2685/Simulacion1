{
  "nbformat": 4,
  "nbformat_minor": 0,
  "metadata": {
    "colab": {
      "provenance": [],
      "include_colab_link": true
    },
    "kernelspec": {
      "name": "python3",
      "display_name": "Python 3"
    },
    "language_info": {
      "name": "python"
    }
  },
  "cells": [
    {
      "cell_type": "markdown",
      "metadata": {
        "id": "view-in-github",
        "colab_type": "text"
      },
      "source": [
        "<a href=\"https://colab.research.google.com/github/Gabriela2685/Simulacion1/blob/main/Ej_5_3.ipynb\" target=\"_parent\"><img src=\"https://colab.research.google.com/assets/colab-badge.svg\" alt=\"Open In Colab\"/></a>"
      ]
    },
    {
      "cell_type": "code",
      "execution_count": 1,
      "metadata": {
        "id": "b3om7ILKepCh"
      },
      "outputs": [],
      "source": [
        "import random as rnd\n"
      ]
    },
    {
      "cell_type": "code",
      "source": [
        "def no_autos(R, intervalos):           # Definimos una funcion que asigne el numero de demanda para cada dia\n",
        "  for inicio, fin, valor in intervalos:     # en los intervalos que despues se proponen, a traves de un num aleatorio R\n",
        "    if inicio <= R < fin:\n",
        "      return valor\n",
        "  return None"
      ],
      "metadata": {
        "id": "yeo0Rac8e1yW"
      },
      "execution_count": 2,
      "outputs": []
    },
    {
      "cell_type": "code",
      "source": [
        "def dias_rentado(M, dias):           # Definimos una funcion que asigne el num de dias que se rentara cada auto\n",
        "  for inicio, fin, valor in dias:     # en los intervalos que despues se proponen, a traves de un num aleatorio R\n",
        "    if inicio <= M < fin:\n",
        "      return valor\n",
        "  return None"
      ],
      "metadata": {
        "id": "g5RmQzmwe9M9"
      },
      "execution_count": 3,
      "outputs": []
    },
    {
      "cell_type": "code",
      "source": [
        "import random as rnd"


"def no_autos(r, intervalos):  # Definimos una funcion que asigne el numero de demanda para cada dia"
    "for (inicio, fin, valor) in (intervalos):  # en los intervalos que despues se proponen, a traves de un num aleatorio R"
        "if inicio <= r < fin:"
            "return valor"
    "return"


"def dias_rentado(rental_days, dias):  # Definimos una funcion que asigne el num de dias que se rentara cada auto"
    "for (inicio, fin, valor,) in (dias):  # en los intervalos que despues se proponen, a traves de un num aleatorio R"
        "if inicio <= rental_days < fin:"
            "return valor"
    "return"

"# def add_ytotal(start, y_total, x):"


"def compra_autos(intervalos, dias, start, agregados):"
    "insuficiente = 0"
    "autos_devueltos = []  # Esta lista nos indicara el dia que deberan regresar los autos"
    "for dia in range(1, 11):  # En un rango de 10 dias vemos como se comporta la funcion"
        "r = rnd.random()  # Num aleatorio"
        "rented_cars = no_autos(r, intervalos)  # Autos rentados"
        
        "days_rent = []"
        "if rented_cars > start:  # Si la demanda es mayor a los autos disponibles"
          "insuficiente = rented_cars - start  # Muestra los autos que no cubrimos"
          "for _ in range(start):"
            "rental_days = rnd.random() # Asigna el numero de dias que se rentaran los autos disponibles"
            "y = dias_rentado(rental_days, dias)  # para cada auto"
            "days_rent.append(y)  # Agregamos a la lista los días asignados"
        "if rented_cars < start:"
          "insuficiente = 0  # Si contamos con la cantidad pedida la demanda insatisfecha sera 0"
          "for _ in range(rented_cars):  # Asignaremos los dias que se rentara cada auto"
            "rental_days = rnd.random()"
            "y = dias_rentado(rental_days, dias)"
            "days_rent.append(y)  # Los agragamos a la lista"

      
        
        "for elemento in days_rent:  # Itera sobre los dias que se rento cada auto"
            "dia_a_devolver = elemento + dia  # Suma los dias de renta más el dia actual"
            "autos_devueltos.append(dia_a_devolver)  # Los agrega a la lista"

        "Ocioso = start - rented_cars# Ocioso sera igual los carros con los que iniciamos menos los que se rentaron"
        "if (Ocioso < 0):  # Si ocioso es negativo quiere decir que no hay carros sin rentarse"
            "Ocioso = 0  # por lo que sera 0"
            
        

        "print(f"Día: {dia},Inicio: {start}, Autos rentados: {rented_cars}, Insuf: {insuficiente}, Cantidad de dias a rentar: {days_rent}, Dia que se devolveran: {autos_devueltos}, Ocioso: {Ocioso}")"
        
        "print(f'dia {dia}, auts del dia {autos_devueltos.count(dia)}')"
        
        
        "if (autos_devueltos.count(dia) == 0):"
          "start = Ocioso"
        
        "if (autos_devueltos.count(dia) >= 1):"
          "start = Ocioso + autos_devueltos.count(dia)"
          
        "while dia in autos_devueltos:"
          "autos_devueltos.remove(dia)"


"if __name__ == "__main__":"
    "# Dependiendo de donde caiga mi R son los autos rentados"
    "intervalos = ["
        "(0.00, 0.10, 0),"
        "(0.10, 0.20, 1),"
        "(0.20, 0.45, 2),"
        "(0.45, 0.75, 3),"
        "(0.75, 1.00, 4),"
    "]"

    "# Dependiendo de donde caiga mi R son los dias rentados"
    "dias = ["
        "(0.00, 0.40, 1),"
        "(0.40, 0.75, 2),"
        "(0.75, 0.90, 3),"
        "(0.90, 1.00, 4),"
    "]"
    "start = 4  # Iniciamos con 4 autos"
    "agregados = 0"
    "compra_autos(intervalos, dias, start, agregados)"
      ],
      "metadata": {
        "colab": {
          "base_uri": "https://localhost:8080/"
        },
        "id": "Y9Sql0FwfDa4",
        "outputId": "6c076062-6ea2-4519-89ef-0ed8554b4517"
      },
      "execution_count": 8,
      "outputs": [
        {
          "output_type": "stream",
          "name": "stdout",
          "text": [
            "Día: 1,Inicio: 4, Autos rentados: 3, Insuf: 0, Cantidad de dias a rentar: [1, 2, 2], Dia que se devolveran: [2, 3, 3], Ocioso: 1\n",
            "Día: 2,Inicio: 1, Autos rentados: 1, Insuf: 0, Cantidad de dias a rentar: [3], Dia que se devolveran: [5], Ocioso: 0\n",
            "Día: 3,Inicio: 0, Autos rentados: 4, Insuf: 4, Cantidad de dias a rentar: [], Dia que se devolveran: [], Ocioso: 0\n",
            "Día: 4,Inicio: 0, Autos rentados: 2, Insuf: 2, Cantidad de dias a rentar: [], Dia que se devolveran: [], Ocioso: 0\n",
            "Día: 5,Inicio: 0, Autos rentados: 2, Insuf: 2, Cantidad de dias a rentar: [], Dia que se devolveran: [], Ocioso: 0\n",
            "Día: 6,Inicio: 0, Autos rentados: 3, Insuf: 3, Cantidad de dias a rentar: [], Dia que se devolveran: [], Ocioso: 0\n",
            "Día: 7,Inicio: 0, Autos rentados: 3, Insuf: 3, Cantidad de dias a rentar: [], Dia que se devolveran: [], Ocioso: 0\n",
            "Día: 8,Inicio: 0, Autos rentados: 2, Insuf: 2, Cantidad de dias a rentar: [], Dia que se devolveran: [], Ocioso: 0\n",
            "Día: 9,Inicio: 0, Autos rentados: 1, Insuf: 1, Cantidad de dias a rentar: [], Dia que se devolveran: [], Ocioso: 0\n",
            "Día: 10,Inicio: 0, Autos rentados: 4, Insuf: 4, Cantidad de dias a rentar: [], Dia que se devolveran: [], Ocioso: 0\n"
          ]
        }
      ]
    }
  ]
}
