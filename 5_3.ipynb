{
  "nbformat": 4,
  "nbformat_minor": 0,
  "metadata": {
    "colab": {
      "provenance": [],
      "include_colab_link": true
    },
    "kernelspec": {
      "name": "python3",
      "display_name": "Python 3"
    },
    "language_info": {
      "name": "python"
    }
  },
  "cells": [
    {
      "cell_type": "markdown",
      "metadata": {
        "id": "view-in-github",
        "colab_type": "text"
      },
      "source": [
        "<a href=\"https://colab.research.google.com/github/Gabriela2685/Simulacion1/blob/main/5_3.ipynb\" target=\"_parent\"><img src=\"https://colab.research.google.com/assets/colab-badge.svg\" alt=\"Open In Colab\"/></a>"
      ]
    },
    {
      "cell_type": "code",
      "source": [
        "import random as rnd"
      ],
      "metadata": {
        "id": "xa4tSSQijN7p"
      },
      "execution_count": 2,
      "outputs": []
    },
    {
      "cell_type": "code",
      "source": [
        "def no_autos(r, intervalos):  # Definimos una funcion que asigne el numero de demanda para cada dia\n",
        "    for (inicio, fin, valor) in (intervalos):  # en los intervalos que despues se proponen, a traves de un num aleatorio R\n",
        "        if inicio <= r < fin:\n",
        "            return valor\n",
        "    return"
      ],
      "metadata": {
        "id": "iZxdy-KmjYHK"
      },
      "execution_count": 3,
      "outputs": []
    },
    {
      "cell_type": "code",
      "source": [
        "def dias_rentado(rental_days, dias):  # Definimos una funcion que asigne el num de dias que se rentara cada auto\n",
        "    for (inicio, fin, valor,) in (dias):  # en los intervalos que despues se proponen, a traves de un num aleatorio R\n",
        "        if inicio <= rental_days < fin:\n",
        "            return valor\n",
        "    return"
      ],
      "metadata": {
        "id": "zX_7briejb4r"
      },
      "execution_count": 4,
      "outputs": []
    },
    {
      "cell_type": "code",
      "execution_count": 167,
      "metadata": {
        "id": "ZJ_DChjeY-oJ"
      },
      "outputs": [],
      "source": [
        "def compra_autos(intervalos, dias, start, agregados):\n",
        "    insuficiente = 0\n",
        "    insuficiente_contador = 0\n",
        "    ocioso_contador = 0\n",
        "    autos_devueltos = []  # Esta lista nos indicara el dia que deberan regresar los autos\n",
        "    costo_compra = start * 75000\n",
        "\n",
        "    for dia in range(1, 11):  # En un rango de 10 dias vemos como se comporta la funcion\n",
        "        r = rnd.random()  # Num aleatorio\n",
        "        rented_cars = no_autos(r, intervalos)  # Autos rentados\n",
        "\n",
        "        days_rent = []\n",
        "        if rented_cars > start:  # Si la demanda es mayor a los autos disponibles\n",
        "            insuficiente = rented_cars - start  # Muestra los autos que no cubrimos\n",
        "            insuficiente_contador += insuficiente\n",
        "            for _ in range(start):\n",
        "                rental_days = rnd.random() # Asigna el numero de dias que se rentaran los autos disponibles\n",
        "                y = dias_rentado(rental_days, dias)  # para cada auto\n",
        "                days_rent.append(y)  # Agregamos a la lista los días asignados\n",
        "\n",
        "        if rented_cars < start:\n",
        "            insuficiente = 0  # Si contamos con la cantidad pedida la demanda insatisfecha sera 0\n",
        "            for _ in range(rented_cars):  # Asignaremos los dias que se rentara cada auto\n",
        "                rental_days = rnd.random()\n",
        "                y = dias_rentado(rental_days, dias)\n",
        "                days_rent.append(y)  # Los agragamos a la lista\n",
        "\n",
        "\n",
        "        for elemento in days_rent:  # Itera sobre los dias que se rento cada auto\n",
        "            dia_a_devolver = elemento + dia  # Suma los dias de renta más el dia actual\n",
        "            autos_devueltos.append(dia_a_devolver)  # Los agrega a la lista\n",
        "\n",
        "        Ocioso = start - rented_cars# Ocioso sera igual los carros con los que iniciamos menos los que se rentaron\n",
        "        ocioso_contador += Ocioso\n",
        "        if (Ocioso < 0):  # Si ocioso es negativo quiere decir que no hay carros sin rentarse\n",
        "            Ocioso = 0  # por lo que sera 0\n",
        "\n",
        "        print(f\"Día: {dia},Inicio: {start}, Demanda: {rented_cars}, Insuf: {insuficiente}, Dias a rentar: {days_rent}, Dia que se devolveran: {autos_devueltos}, Ocioso: {Ocioso}\")\n",
        "\n",
        "        print(f'Autos devueltos {autos_devueltos.count(dia)}')\n",
        "\n",
        "\n",
        "        if (autos_devueltos.count(dia) == 0):\n",
        "            start = Ocioso\n",
        "\n",
        "        if (autos_devueltos.count(dia) >= 1):\n",
        "            start = Ocioso + autos_devueltos.count(dia)\n",
        "\n",
        "        while dia in autos_devueltos:\n",
        "            autos_devueltos.remove(dia)\n",
        "\n",
        "    print('Costo autos:',costo_compra)\n",
        "    print('Costo por auto insuficiente:',insuficiente_contador * 200)\n",
        "    print(ocioso_contador)\n",
        "    print(total_rent)\n",
        "\n",
        "\n",
        "total_rent = []\n",
        "\n",
        "if __name__ == \"__main__\":\n",
        "# Dependiendo de donde caiga mi R son los autos rentados\n",
        "    intervalos = [\n",
        "        (0.00, 0.10, 0),\n",
        "        (0.10, 0.20, 1),\n",
        "        (0.20, 0.45, 2),\n",
        "        (0.45, 0.75, 3),\n",
        "        (0.75, 1.00, 4),\n",
        "    ]\n",
        "\n",
        "# Dependiendo de donde caiga mi R son los dias rentados\n",
        "    dias = [\n",
        "        (0.00, 0.40, 1),\n",
        "        (0.40, 0.75, 2),\n",
        "        (0.75, 0.90, 3),\n",
        "        (0.90, 1.00, 4),\n",
        "    ]\n",
        "    start = 4  # Iniciamos con 4 autos\n",
        "    agregados = 0"
      ]
    },
    {
      "cell_type": "code",
      "source": [
        "compra_autos(intervalos, dias, start, agregados)"
      ],
      "metadata": {
        "id": "f5yiNrhsmD9p",
        "outputId": "80f579ed-3139-40e3-83fb-09448123dbde",
        "colab": {
          "base_uri": "https://localhost:8080/"
        }
      },
      "execution_count": 168,
      "outputs": [
        {
          "output_type": "stream",
          "name": "stdout",
          "text": [
            "Día: 1,Inicio: 4, Demanda: 2, Insuf: 0, Dias a rentar: [2, 1], Dia que se devolveran: [3, 2], Ocioso: 2\n",
            "Autos devueltos 0\n",
            "Día: 2,Inicio: 2, Demanda: 0, Insuf: 0, Dias a rentar: [], Dia que se devolveran: [3, 2], Ocioso: 2\n",
            "Autos devueltos 1\n",
            "Día: 3,Inicio: 3, Demanda: 3, Insuf: 0, Dias a rentar: [], Dia que se devolveran: [3], Ocioso: 0\n",
            "Autos devueltos 1\n",
            "Día: 4,Inicio: 1, Demanda: 3, Insuf: 2, Dias a rentar: [2], Dia que se devolveran: [6], Ocioso: 0\n",
            "Autos devueltos 0\n",
            "Día: 5,Inicio: 0, Demanda: 4, Insuf: 4, Dias a rentar: [], Dia que se devolveran: [6], Ocioso: 0\n",
            "Autos devueltos 0\n",
            "Día: 6,Inicio: 0, Demanda: 3, Insuf: 3, Dias a rentar: [], Dia que se devolveran: [6], Ocioso: 0\n",
            "Autos devueltos 1\n",
            "Día: 7,Inicio: 1, Demanda: 2, Insuf: 1, Dias a rentar: [3], Dia que se devolveran: [10], Ocioso: 0\n",
            "Autos devueltos 0\n",
            "Día: 8,Inicio: 0, Demanda: 2, Insuf: 2, Dias a rentar: [], Dia que se devolveran: [10], Ocioso: 0\n",
            "Autos devueltos 0\n",
            "Día: 9,Inicio: 0, Demanda: 4, Insuf: 4, Dias a rentar: [], Dia que se devolveran: [10], Ocioso: 0\n",
            "Autos devueltos 0\n",
            "Día: 10,Inicio: 0, Demanda: 4, Insuf: 4, Dias a rentar: [], Dia que se devolveran: [10], Ocioso: 0\n",
            "Autos devueltos 1\n",
            "Costo autos: 300000\n",
            "Costo por auto insuficiente: 4000\n",
            "-16\n",
            "[]\n"
          ]
        }
      ]
    }
  ]
}