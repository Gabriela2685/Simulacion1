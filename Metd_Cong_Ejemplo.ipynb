{
  "nbformat": 4,
  "nbformat_minor": 0,
  "metadata": {
    "colab": {
      "provenance": [],
      "authorship_tag": "ABX9TyNHMRJS53+0+LOX67A6LBHI",
      "include_colab_link": true
    },
    "kernelspec": {
      "name": "python3",
      "display_name": "Python 3"
    },
    "language_info": {
      "name": "python"
    }
  },
  "cells": [
    {
      "cell_type": "markdown",
      "metadata": {
        "id": "view-in-github",
        "colab_type": "text"
      },
      "source": [
        "<a href=\"https://colab.research.google.com/github/Gabriela2685/Simulacion1/blob/main/Metd_Cong_Ejemplo.ipynb\" target=\"_parent\"><img src=\"https://colab.research.google.com/assets/colab-badge.svg\" alt=\"Open In Colab\"/></a>"
      ]
    },
    {
      "cell_type": "markdown",
      "source": [
        "**Método de composición (Ejemplo)**\n",
        "\n",
        "Tenemos la variable aleatoria con densidad:\n",
        "\n",
        "$f_{x}(x)=\\frac{1}{4}e^{-x}+\\frac{3}{2}e^{-2x}$\n",
        "\n",
        "Donde:\n",
        "\n",
        "$f_{1}=e^{-x}$\n",
        "\n",
        "$f_{2}=2e^{-2x}$\n",
        "\n",
        "Ya que la varible aleatoria tiene una distribución exponencial.\n",
        "\n",
        "$\\frac{1}{4}e^{-x}=p_{1}e^{-x}⇒p_{1}=\\frac{1}{2}$\n",
        "\n",
        "$\\frac{3}{2}e^{-2x}=p_{2}2e^{-2x}⇒p_{2}=\\frac{3}{4}$"
      ],
      "metadata": {
        "id": "6ivpuSYzMfr0"
      }
    },
    {
      "cell_type": "code",
      "execution_count": null,
      "metadata": {
        "id": "Ftqi_pZ-Mdn3"
      },
      "outputs": [],
      "source": []
    }
  ]
}