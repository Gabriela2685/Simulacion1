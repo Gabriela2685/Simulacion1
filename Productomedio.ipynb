{
  "nbformat": 4,
  "nbformat_minor": 0,
  "metadata": {
    "colab": {
      "provenance": [],
      "include_colab_link": true
    },
    "kernelspec": {
      "name": "python3",
      "display_name": "Python 3"
    },
    "language_info": {
      "name": "python"
    }
  },
  "cells": [
    {
      "cell_type": "markdown",
      "metadata": {
        "id": "view-in-github",
        "colab_type": "text"
      },
      "source": [
        "<a href=\"https://colab.research.google.com/github/Gabriela2685/Simulacion1/blob/main/Productomedio.ipynb\" target=\"_parent\"><img src=\"https://colab.research.google.com/assets/colab-badge.svg\" alt=\"Open In Colab\"/></a>"
      ]
    },
    {
      "cell_type": "code",
      "source": [
        "#Producto medio\n",
        "x0 = 123\n",
        "x1 = 456\n",
        "\n",
        "for _ in range(5):\n",
        "    producto_semillas = x0 * x1\n",
        "    cadena = [int(digito) for digito in str(producto_semillas)]\n",
        "\n",
        "    nueva_sem = int(''.join(map(str, cadena[1:4])))\n",
        "\n",
        "    print('Ahora x1 es:', nueva_sem, 'y x0:', x1)\n",
        "\n",
        "    x0 = x1\n",
        "    x1 = nueva_sem"
      ],
      "metadata": {
        "colab": {
          "base_uri": "https://localhost:8080/"
        },
        "outputId": "b614eea4-7de7-4f57-b7eb-1f6db5246204",
        "id": "BWqOY9z3lk10"
      },
      "execution_count": 5,
      "outputs": [
        {
          "output_type": "stream",
          "name": "stdout",
          "text": [
            "Ahora x1 es: 608 y x0: 456\n",
            "Ahora x1 es: 772 y x0: 608\n",
            "Ahora x1 es: 693 y x0: 772\n",
            "Ahora x1 es: 349 y x0: 693\n",
            "Ahora x1 es: 418 y x0: 349\n"
          ]
        }
      ]
    },
    {
      "cell_type": "code",
      "source": [
        "#Producto medio\n",
        "x0 = 123\n",
        "x1 = 456\n",
        "\n",
        "for _ in range(5):\n",
        "    producto_semillas = x0 * x1\n",
        "    cadena = [int(digito) for digito in str(producto_semillas)]\n",
        "    if len(cadena) == 6:\n",
        "        nueva_sem = int(''.join(map(str, cadena[1:4])))\n",
        "    else:\n",
        "        nueva_sem = int(''.join(map(str, cadena[1:4])))\n",
        "    print('Ahora x1 es:', nueva_sem, 'y x0:', x1)\n",
        "\n",
        "    x0 = x1\n",
        "    x1 = nueva_sem"
      ],
      "metadata": {
        "colab": {
          "base_uri": "https://localhost:8080/"
        },
        "id": "t1HlIcfYCuqR",
        "outputId": "099e8443-4215-4cb1-f699-fb1b822dcd33"
      },
      "execution_count": null,
      "outputs": [
        {
          "output_type": "stream",
          "name": "stdout",
          "text": [
            "Ahora x1 es: 608 y x0: 456\n",
            "Ahora x1 es: 772 y x0: 608\n",
            "Ahora x1 es: 693 y x0: 772\n",
            "Ahora x1 es: 349 y x0: 693\n",
            "Ahora x1 es: 418 y x0: 349\n"
          ]
        }
      ]
    },
    {
      "cell_type": "code",
      "source": [
        "x0 = 456\n",
        "x1 = 608\n",
        "\n",
        "producto_semillas = x0 * x1\n",
        "\n",
        "cadena = [int(digito) for digito in str(producto_semillas)]\n",
        "\n",
        "if len(cadena) == 6:\n",
        "    nueva_sem = int(''.join(map(str, cadena[1:4])))\n",
        "else:\n",
        "    nueva_sem = int(''.join(map(str, cadena[1:4])))\n",
        "\n",
        "print('Ahora x1 es:', nueva_sem)\n"
      ],
      "metadata": {
        "colab": {
          "base_uri": "https://localhost:8080/"
        },
        "id": "JbdmJEd3AXwx",
        "outputId": "a77d5be4-257a-45e0-834d-a8c20fb2fa89"
      },
      "execution_count": null,
      "outputs": [
        {
          "output_type": "stream",
          "name": "stdout",
          "text": [
            "Ahora x1 es: 772\n"
          ]
        }
      ]
    },
    {
      "cell_type": "code",
      "source": [
        "x0 = 212\n",
        "x1 = 357\n",
        "\n",
        "producto_semillas = x0*x1\n",
        "\n",
        "cadena = [int(digito) for digito in str(producto_semillas)]\n",
        "\n",
        "if len(cadena)==6:\n",
        "  cadena.insert(0,0)\n",
        "  sublista = cadena[2:5]\n",
        "  nueva_sem = int(''.join(map(str, sublista)))\n",
        "else:\n",
        "  sublista = cadena[1:4]\n",
        "  nueva_sem = int(''.join(map(str, sublista)))\n",
        "\n",
        "print('Ahora x1 es:', nueva_sem)"
      ],
      "metadata": {
        "colab": {
          "base_uri": "https://localhost:8080/"
        },
        "id": "8ZCAgaNn4Q7S",
        "outputId": "9a8f0cad-5c03-4f5c-9bf9-3c404c7f06bf"
      },
      "execution_count": null,
      "outputs": [
        {
          "output_type": "stream",
          "name": "stdout",
          "text": [
            "Ahora x1 es: 568\n"
          ]
        }
      ]
    },
    {
      "cell_type": "code",
      "source": [
        "#De str a int\n",
        "lista_digitos = [1, 2, 3, 4, 5]\n",
        "numero_entero = int(''.join(map(str, lista_digitos)))\n",
        "print(numero_entero)"
      ],
      "metadata": {
        "colab": {
          "base_uri": "https://localhost:8080/"
        },
        "id": "hYbr_v2F_D-o",
        "outputId": "f4f2d4ac-d114-40bb-d516-75e47ee76c85"
      },
      "execution_count": null,
      "outputs": [
        {
          "output_type": "stream",
          "name": "stdout",
          "text": [
            "12345\n"
          ]
        }
      ]
    },
    {
      "cell_type": "code",
      "execution_count": null,
      "metadata": {
        "colab": {
          "base_uri": "https://localhost:8080/"
        },
        "id": "eO_xEMTNrFhm",
        "outputId": "995b1d68-1259-4899-e161-29a39883c659"
      },
      "outputs": [
        {
          "output_type": "stream",
          "name": "stdout",
          "text": [
            "[1, 2, 3]\n"
          ]
        }
      ],
      "source": [
        "#De int a str\n",
        "numero = 123\n",
        "lista_digitos = [int(digito) for digito in str(numero)]\n",
        "print(lista_digitos)"
      ]
    }
  ]
}