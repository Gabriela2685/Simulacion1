{
  "nbformat": 4,
  "nbformat_minor": 0,
  "metadata": {
    "colab": {
      "provenance": [],
      "include_colab_link": true
    },
    "kernelspec": {
      "name": "python3",
      "display_name": "Python 3"
    },
    "language_info": {
      "name": "python"
    }
  },
  "cells": [
    {
      "cell_type": "markdown",
      "metadata": {
        "id": "view-in-github",
        "colab_type": "text"
      },
      "source": [
        "<a href=\"https://colab.research.google.com/github/Gabriela2685/Simulacion1/blob/main/Congruencia.ipynb\" target=\"_parent\"><img src=\"https://colab.research.google.com/assets/colab-badge.svg\" alt=\"Open In Colab\"/></a>"
      ]
    },
    {
      "cell_type": "code",
      "source": [
        "#Metodo de congruencia (Ciclo de vida)\n",
        "\n",
        "x0 = 6\n",
        "a = 5\n",
        "c = 5\n",
        "m = 16\n",
        "\n",
        "r = []\n",
        "values_seen = set()\n",
        "iteracion = 0\n",
        "\n",
        "while True:\n",
        "    x1 = (a * x0 + c) % m\n",
        "\n",
        "    if x1 in values_seen:\n",
        "        break\n",
        "\n",
        "    values_seen.add(x1)\n",
        "    r.append(x1 / m)\n",
        "\n",
        "    x0 = x1\n",
        "    iteracion += 1\n",
        "\n",
        "print('Iteracion:',iteracion)\n",
        "print(r)"
      ],
      "metadata": {
        "colab": {
          "base_uri": "https://localhost:8080/"
        },
        "id": "GP4zdIZJCn9k",
        "outputId": "18476414-a1e6-4295-9b7d-f9f04b35639d"
      },
      "execution_count": null,
      "outputs": [
        {
          "output_type": "stream",
          "name": "stdout",
          "text": [
            "Iteracion: 16\n",
            "[0.1875, 0.25, 0.5625, 0.125, 0.9375, 0.0, 0.3125, 0.875, 0.6875, 0.75, 0.0625, 0.625, 0.4375, 0.5, 0.8125, 0.375]\n"
          ]
        }
      ]
    },
    {
      "cell_type": "code",
      "execution_count": 1,
      "metadata": {
        "colab": {
          "base_uri": "https://localhost:8080/"
        },
        "id": "0dAzJ4qALfkL",
        "outputId": "f88d4a21-b89c-41e3-da85-1700ef1fa7dc"
      },
      "outputs": [
        {
          "output_type": "stream",
          "name": "stdout",
          "text": [
            "[0.1875, 0.25, 0.5625, 0.125, 0.9375, 0.0, 0.3125, 0.875, 0.6875, 0.75, 0.0625, 0.625, 0.4375, 0.5, 0.8125, 0.375, 0.1875, 0.25, 0.5625, 0.125]\n"
          ]
        }
      ],
      "source": [
        "# Metodo de congruencia\n",
        "\n",
        "x0=6\n",
        "a=5\n",
        "c=5\n",
        "m=16\n",
        "\n",
        "r=[]\n",
        "\n",
        "for _ in range(20):\n",
        "  x1=(a*x0+c)%m\n",
        "  x0=x1\n",
        "\n",
        "  r.append(x1/m)\n",
        "\n",
        "#  print(x1)\n",
        "\n",
        "print(r)\n"
      ]
    },
    {
      "cell_type": "markdown",
      "source": [
        "**Ciclo de vida:** Es hasta la iteracion donde se empieza a ciclar."
      ],
      "metadata": {
        "id": "odJGO6r0Eama"
      }
    },
    {
      "cell_type": "markdown",
      "source": [
        "En ocasiones el modulo nos va a indicar la longitud de nuestra ciclo. En este caso si m=16 entonces se puede ciclar en la iteracion 15, pues el residuo puede tomar valores solo entre 0 y 15."
      ],
      "metadata": {
        "id": "G-6EafmSEhf0"
      }
    }
  ]
}