{
  "nbformat": 4,
  "nbformat_minor": 0,
  "metadata": {
    "colab": {
      "provenance": [],
      "authorship_tag": "ABX9TyPO/fOJAzh1Iq4VT654UT5k",
      "include_colab_link": true
    },
    "kernelspec": {
      "name": "python3",
      "display_name": "Python 3"
    },
    "language_info": {
      "name": "python"
    }
  },
  "cells": [
    {
      "cell_type": "markdown",
      "metadata": {
        "id": "view-in-github",
        "colab_type": "text"
      },
      "source": [
        "<a href=\"https://colab.research.google.com/github/Gabriela2685/Simulacion1/blob/main/Congruencia.ipynb\" target=\"_parent\"><img src=\"https://colab.research.google.com/assets/colab-badge.svg\" alt=\"Open In Colab\"/></a>"
      ]
    },
    {
      "cell_type": "code",
      "execution_count": 31,
      "metadata": {
        "colab": {
          "base_uri": "https://localhost:8080/"
        },
        "id": "0dAzJ4qALfkL",
        "outputId": "3f1138dc-4cfd-435f-ae5a-c3f780f9fb6c"
      },
      "outputs": [
        {
          "output_type": "stream",
          "name": "stdout",
          "text": [
            "19 [0.1875, 0.25, 0.5625, 0.125, 0.9375, 0.0, 0.3125, 0.875, 0.6875, 0.75, 0.0625, 0.625, 0.4375, 0.5, 0.8125, 0.375, 0.1875, 0.25, 0.5625, 0.125]\n"
          ]
        }
      ],
      "source": [
        "#Metodo de congruencia\n",
        "\n",
        "x0=6\n",
        "a=5\n",
        "c=5\n",
        "m=16\n",
        "\n",
        "r=[]\n",
        "\n",
        "for _ in range(20):\n",
        "  x1=(a*x0+c)%m\n",
        "  x0=x1\n",
        "\n",
        "  r.append(x1/m)\n",
        "\n",
        "#  print(x1)\n",
        "\n",
        "print(r)\n",
        "\n",
        "#Ciclo de vida: es hasta la iteracion donde se empieza a ciclar\n",
        "#El modulo es el que nos va decir la longitud de nuestro ciclo\n",
        "#Si m=16 entonces se va a ciclar en la iteracion 15, pues el residuo\n",
        "#puede tomar valores solo entre 0 y 15\n"
      ]
    }
  ]
}