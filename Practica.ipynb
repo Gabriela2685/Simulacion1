{
  "nbformat": 4,
  "nbformat_minor": 0,
  "metadata": {
    "colab": {
      "provenance": [],
      "authorship_tag": "ABX9TyOQgm3NYRCFkhq2KB2mB2sI",
      "include_colab_link": true
    },
    "kernelspec": {
      "name": "python3",
      "display_name": "Python 3"
    },
    "language_info": {
      "name": "python"
    }
  },
  "cells": [
    {
      "cell_type": "markdown",
      "metadata": {
        "id": "view-in-github",
        "colab_type": "text"
      },
      "source": [
        "<a href=\"https://colab.research.google.com/github/Gabriela2685/Simulacion1/blob/main/Practica.ipynb\" target=\"_parent\"><img src=\"https://colab.research.google.com/assets/colab-badge.svg\" alt=\"Open In Colab\"/></a>"
      ]
    },
    {
      "cell_type": "code",
      "execution_count": 5,
      "metadata": {
        "colab": {
          "base_uri": "https://localhost:8080/"
        },
        "id": "NV7sGj57FGG_",
        "outputId": "88702a99-f299-4d86-d73e-40d0b583d178"
      },
      "outputs": [
        {
          "output_type": "stream",
          "name": "stdout",
          "text": [
            "0\n",
            "1\n",
            "2\n",
            "3\n",
            "4\n",
            "5\n",
            "6\n",
            "7\n",
            "8\n",
            "9\n"
          ]
        }
      ],
      "source": [
        "for q in range(10):\n",
        "  print(q)"
      ]
    },
    {
      "cell_type": "code",
      "source": [
        "\n",
        "# Mientras una condición se cumpla el bucle seguira\n",
        "seats = 5  # Variable\n",
        "\n",
        "while seats > 0:\n",
        "  print('Sell ticket')\n",
        "  seats = seats - 1    # Contador: Evita bucles infinitos"
      ],
      "metadata": {
        "colab": {
          "base_uri": "https://localhost:8080/"
        },
        "id": "qQIxN50zG1w1",
        "outputId": "95a13f24-8e3e-41b5-962e-923f8367c731"
      },
      "execution_count": 7,
      "outputs": [
        {
          "output_type": "stream",
          "name": "stdout",
          "text": [
            "Sell ticket\n",
            "Sell ticket\n",
            "Sell ticket\n",
            "Sell ticket\n",
            "Sell ticket\n"
          ]
        }
      ]
    },
    {
      "cell_type": "code",
      "source": [
        "for i in range(3):\n",
        "  print(i<1)"
      ],
      "metadata": {
        "colab": {
          "base_uri": "https://localhost:8080/"
        },
        "id": "zPAZ3stBJEfE",
        "outputId": "7aa4e6a5-919b-47d8-e942-90fefa839cae"
      },
      "execution_count": 8,
      "outputs": [
        {
          "output_type": "stream",
          "name": "stdout",
          "text": [
            "True\n",
            "False\n",
            "False\n"
          ]
        }
      ]
    },
    {
      "cell_type": "code",
      "source": [
        "print(5==5)  # Igual\n",
        "print(5==7)\n",
        "print(5!=5)  # Distinto\n",
        "print(5!=7)\n",
        "print(5<=5)\n",
        "print(5>=5)"
      ],
      "metadata": {
        "colab": {
          "base_uri": "https://localhost:8080/"
        },
        "id": "tN5uk4cIJf85",
        "outputId": "0d0678e4-2a55-435c-d113-adb81e2cdeb8"
      },
      "execution_count": 9,
      "outputs": [
        {
          "output_type": "stream",
          "name": "stdout",
          "text": [
            "True\n",
            "False\n",
            "False\n",
            "True\n",
            "True\n",
            "True\n"
          ]
        }
      ]
    }
  ]
}