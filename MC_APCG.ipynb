{
  "nbformat": 4,
  "nbformat_minor": 0,
  "metadata": {
    "colab": {
      "provenance": [],
      "authorship_tag": "ABX9TyP4FrWi4hUyLHDCNzlHOrdO",
      "include_colab_link": true
    },
    "kernelspec": {
      "name": "python3",
      "display_name": "Python 3"
    },
    "language_info": {
      "name": "python"
    }
  },
  "cells": [
    {
      "cell_type": "markdown",
      "metadata": {
        "id": "view-in-github",
        "colab_type": "text"
      },
      "source": [
        "<a href=\"https://colab.research.google.com/github/Gabriela2685/Simulacion1/blob/main/MC_APCG.ipynb\" target=\"_parent\"><img src=\"https://colab.research.google.com/assets/colab-badge.svg\" alt=\"Open In Colab\"/></a>"
      ]
    },
    {
      "cell_type": "markdown",
      "source": [
        "# Integración MC\n",
        "\n",
        "Carmen Gabriela Angulo Payán\n",
        "\n",
        "Para ilustrar el método de integración MC calculamos:\n",
        "\n",
        "$\\int_{0}^{1}\\sqrt{arctan(x)}dx ≈ 0.629823$\n",
        "\n",
        "Usando Wolfram obtenemos el resultado de dicha integral, la cual analíticamente no se puede, por lo que recurrimos a otros métodos.\n",
        "\n",
        "**MC de la Media Muestral**\n",
        "\n",
        "Consiste en tomar muchas muestras aleatorias y calcular la media de estas, esta media será una buena aproximación del valor esperado de la función que estamos estudiando."
      ],
      "metadata": {
        "id": "xMcWWSIczq_w"
      }
    },
    {
      "cell_type": "code",
      "source": [
        "# Importamos librerias\n",
        "import random as rnd\n",
        "import numpy as np\n",
        "import matplotlib.pyplot as plt\n",
        "import math"
      ],
      "metadata": {
        "id": "yBL9YEZieLTg"
      },
      "execution_count": 11,
      "outputs": []
    },
    {
      "cell_type": "code",
      "source": [
        "# Función a calcular\n",
        "def f(x):\n",
        "    return np.sqrt(np.arctan(x))"
      ],
      "metadata": {
        "id": "X-u_M5OjoEQZ"
      },
      "execution_count": 5,
      "outputs": []
    },
    {
      "cell_type": "code",
      "source": [
        "# Funcion que recrea el método de MC de la media muestral\n",
        "# n Tamaño de las muestras\n",
        "# a y b Limites\n",
        "def MC(n,a,b):\n",
        "  C = []\n",
        "  for _ in range(n):\n",
        "    x = rnd.random()\n",
        "    X_i = a + x*(b-a)\n",
        "    g = f(X_i)\n",
        "    C.append(g)\n",
        "  return C"
      ],
      "metadata": {
        "id": "2Nv50frSd6LD"
      },
      "execution_count": 42,
      "outputs": []
    },
    {
      "cell_type": "code",
      "execution_count": 43,
      "metadata": {
        "colab": {
          "base_uri": "https://localhost:8080/"
        },
        "id": "hmw4CHcmd0lA",
        "outputId": "668ab91f-31e9-4f64-864e-b6586c7ecd24"
      },
      "outputs": [
        {
          "output_type": "stream",
          "name": "stdout",
          "text": [
            "La integral es igual a: 0.6301156391039583\n"
          ]
        }
      ],
      "source": [
        "Ejercicio = MC(100000,0,1)\n",
        "print('La integral es igual a:',np.mean(Ejercicio))"
      ]
    },
    {
      "cell_type": "code",
      "source": [
        "# Realizamos experimentos\n",
        "medias_muestrales = []  # Guardara todas las n medias muestrales\n",
        "for _ in range(1000):\n",
        "  Ejercicio = MC(50,0,1)\n",
        "  theta1 = np.mean(Ejercicio)\n",
        "  medias_muestrales.append(theta1)\n",
        "\n",
        "estimacion_promedio = np.mean(medias_muestrales)   # Promedio de todas las muestras"
      ],
      "metadata": {
        "id": "mp1gH-ESp_Ju"
      },
      "execution_count": 56,
      "outputs": []
    },
    {
      "cell_type": "code",
      "source": [
        "# Histograma\n",
        "plt.hist(medias_muestrales, bins=20, edgecolor='black')\n",
        "plt.title('Histograma de las medias muestrales')\n",
        "plt.xlabel('Valor de la integral')\n",
        "plt.ylabel('Frecuencia')\n",
        "plt.axvline(estimacion_promedio, color='red')  #Valor de la integral"
      ],
      "metadata": {
        "colab": {
          "base_uri": "https://localhost:8080/",
          "height": 489
        },
        "id": "ejrs_C3uvjVU",
        "outputId": "b1c4343f-0464-484b-c7ad-becff179f63b"
      },
      "execution_count": 57,
      "outputs": [
        {
          "output_type": "execute_result",
          "data": {
            "text/plain": [
              "<matplotlib.lines.Line2D at 0x7b336fc33310>"
            ]
          },
          "metadata": {},
          "execution_count": 57
        },
        {
          "output_type": "display_data",
          "data": {
            "text/plain": [
              "<Figure size 640x480 with 1 Axes>"
            ],
            "image/png": "[encoded data removed]"
          },
          "metadata": {}
        }
      ]
    }
  ]
}