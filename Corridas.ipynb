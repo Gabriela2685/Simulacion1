{
  "nbformat": 4,
  "nbformat_minor": 0,
  "metadata": {
    "colab": {
      "provenance": [],
      "authorship_tag": "ABX9TyPFh0Qnfod5dV5dp4S4MoLz",
      "include_colab_link": true
    },
    "kernelspec": {
      "name": "python3",
      "display_name": "Python 3"
    },
    "language_info": {
      "name": "python"
    }
  },
  "cells": [
    {
      "cell_type": "markdown",
      "metadata": {
        "id": "view-in-github",
        "colab_type": "text"
      },
      "source": [
        "<a href=\"https://colab.research.google.com/github/Gabriela2685/Simulacion1/blob/main/Corridas.ipynb\" target=\"_parent\"><img src=\"https://colab.research.google.com/assets/colab-badge.svg\" alt=\"Open In Colab\"/></a>"
      ]
    },
    {
      "cell_type": "code",
      "execution_count": 28,
      "metadata": {
        "id": "pm0ifrIlPMw6"
      },
      "outputs": [],
      "source": [
        "import numpy as np\n",
        "import pandas as pd\n",
        "import scipy.stats as st\n",
        "from scipy.stats import chisquare\n",
        "from scipy.stats import norm\n",
        "from math import sqrt"
      ]
    },
    {
      "cell_type": "code",
      "source": [
        "data = pd.read_csv('https://docs.google.com/spreadsheets/d/e/2PACX-1vS0A5xBv41FjcKVzIxs5dORBTKDyzcQL_Iha_nWPOGeZamkTm99RGd_dQL7P2jlRw/pub?output=csv',header=None)"
      ],
      "metadata": {
        "id": "XKN9h1j2TgOl"
      },
      "execution_count": 16,
      "outputs": []
    },
    {
      "cell_type": "code",
      "source": [
        "#data\n",
        "print(data.head())"
      ],
      "metadata": {
        "colab": {
          "base_uri": "https://localhost:8080/"
        },
        "id": "NDKMEDr6UNxo",
        "outputId": "ff84465a-4f9f-4347-c688-ea65d3e706ab"
      },
      "execution_count": 21,
      "outputs": [
        {
          "output_type": "stream",
          "name": "stdout",
          "text": [
            "       0\n",
            "0  0.048\n",
            "1  0.591\n",
            "2  0.478\n",
            "3  0.166\n",
            "4  0.932\n"
          ]
        }
      ]
    },
    {
      "cell_type": "code",
      "source": [
        "# Iterar sobre los índices del DataFrame, excepto el último\n",
        "S=[]\n",
        "\n",
        "for i in range(len(data) - 1):\n",
        "    current_value = data.loc[i, 0]  # Obtener el valor actual\n",
        "    next_value = data.loc[i + 1, 0]  # Obtener el siguiente valor\n",
        "    if current_value >= next_value:\n",
        "      S.append(0)\n",
        "    else:\n",
        "      S.append(1)\n",
        "\n",
        "print(S)\n",
        ""
      ],
      "metadata": {
        "colab": {
          "base_uri": "https://localhost:8080/"
        },
        "id": "VetiCctIWmIX",
        "outputId": "3b9aaadd-4ac7-4121-f75a-d3db2a0f001f"
      },
      "execution_count": 20,
      "outputs": [
        {
          "output_type": "stream",
          "name": "stdout",
          "text": [
            "[1, 0, 0, 1, 0, 0, 1, 0, 1, 0, 1, 0, 1, 1, 1, 0, 0, 1, 0, 0, 0, 0, 1, 1]\n"
          ]
        }
      ]
    },
    {
      "cell_type": "code",
      "source": [
        "def contar_rachas(lista):\n",
        "    rachas = 1  # Inicialmente, asumimos que hay al menos una racha\n",
        "    ultimo_elemento = lista[0]  # Tomamos el primer elemento como referencia\n",
        "\n",
        "    # Iteramos sobre los elementos restantes de la lista\n",
        "    for elemento in lista[1:]:\n",
        "        # Si el elemento actual es diferente al anterior, incrementamos el contador de rachas\n",
        "        if elemento != ultimo_elemento:\n",
        "            rachas += 1\n",
        "            ultimo_elemento = elemento  # Actualizamos el último elemento\n",
        "    return rachas\n",
        "\n",
        "C0 = contar_rachas(S)\n",
        "print(\"Número de rachas:\", C0)\n"
      ],
      "metadata": {
        "colab": {
          "base_uri": "https://localhost:8080/"
        },
        "id": "fSLFA_NmcSVE",
        "outputId": "65d0a4e3-a2bf-4351-e2f0-bbe4742779bc"
      },
      "execution_count": 24,
      "outputs": [
        {
          "output_type": "stream",
          "name": "stdout",
          "text": [
            "Número de rachas: 15\n"
          ]
        }
      ]
    },
    {
      "cell_type": "code",
      "source": [
        "# Calculamos\n",
        "\n",
        "m_C0 = ((2*len(data))-1)/3\n",
        "var_C0 = ((16*len(data))-29)/90\n",
        "Z0 = (C0 - m_C0)/sqrt(var_C0)\n",
        "\n",
        "print('Valor esperado:', m_C0)\n",
        "print('Varianza', var_C0)\n",
        "print('Estadistico:', Z0)"
      ],
      "metadata": {
        "colab": {
          "base_uri": "https://localhost:8080/"
        },
        "id": "TvCji2BGdW4i",
        "outputId": "f5a9b470-a7f4-4248-e900-8cea9f510a92"
      },
      "execution_count": null,
      "outputs": [
        {
          "output_type": "stream",
          "name": "stdout",
          "text": [
            "Valor esperado: 16.333333333333332\n",
            "Varianza 4.122222222222222\n",
            "Estadistico: -0.6567091033031179\n"
          ]
        }
      ]
    },
    {
      "cell_type": "code",
      "source": [
        "alpha = 0.05\n",
        "# Valor crítico para una prueba de dos colas\n",
        "valor_critico = norm.ppf(1 - alpha/2)\n",
        "\n",
        "#print(\"Valor critico:\", valor_critico)\n",
        "\n",
        "if Z0 <= valor_critico and Z0 >= -(valor_critico):\n",
        "  print('Aceptar H0 Son independientes')\n",
        "else:\n",
        "  print('No se acepta H0 No son independientes')"
      ],
      "metadata": {
        "colab": {
          "base_uri": "https://localhost:8080/"
        },
        "id": "8eMv72hdhOSG",
        "outputId": "bfd42310-1f03-40ba-f860-48b9d6bd0c2d"
      },
      "execution_count": 32,
      "outputs": [
        {
          "output_type": "stream",
          "name": "stdout",
          "text": [
            "Aceptar H0 Son independientes\n"
          ]
        }
      ]
    }
  ]
}