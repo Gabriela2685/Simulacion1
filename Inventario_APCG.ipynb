{
  "nbformat": 4,
  "nbformat_minor": 0,
  "metadata": {
    "colab": {
      "provenance": [],
      "include_colab_link": true
    },
    "kernelspec": {
      "name": "python3",
      "display_name": "Python 3"
    },
    "language_info": {
      "name": "python"
    }
  },
  "cells": [
    {
      "cell_type": "markdown",
      "metadata": {
        "id": "view-in-github",
        "colab_type": "text"
      },
      "source": [
        "<a href=\"https://colab.research.google.com/github/Gabriela2685/Simulacion1/blob/main/Inventario_APCG.ipynb\" target=\"_parent\"><img src=\"https://colab.research.google.com/assets/colab-badge.svg\" alt=\"Open In Colab\"/></a>"
      ]
    },
    {
      "cell_type": "markdown",
      "source": [
        "# Sistema de inventario\n",
        "\n",
        "Carmen Gabriela Angulo Payán\n",
        "\n",
        "Simulación de un inventario que inicia con 150 unidades, que mediante un numero aleatorio definimos cuantas unidades se van solicitando mes por mes, y los costos al final del año.\n",
        "\n",
        "**Costos totales anuales del sistema de inventario**\n",
        "\n",
        "Costo de ordenar = $100/orden\n",
        "\n",
        "Costo de inventario = $20/unidad/año\n",
        "\n",
        "Costo de faltante = $50/unidad"
      ],
      "metadata": {
        "id": "8VTD4xiPO2ri"
      }
    },
    {
      "cell_type": "code",
      "execution_count": 2,
      "metadata": {
        "id": "9KKin5jECs0N"
      },
      "outputs": [],
      "source": [
        "# Importamos librerias\n",
        "import random as rnd\n",
        "import math\n",
        "import pandas as pd\n",
        "import matplotlib.pyplot as plt"
      ]
    },
    {
      "cell_type": "code",
      "source": [
        "def asignar_valor(R, intervalos):           # Definimos una funcion que asigne el numero de demanda para cada mes\n",
        "  for inicio, fin, valor in intervalos:     # en los intervalos que despues se proponen, a traves de un num aleatorio R\n",
        "    if inicio <= R < fin:\n",
        "      return valor\n",
        "  return None"
      ],
      "metadata": {
        "id": "h3eIYk25p82k"
      },
      "execution_count": 3,
      "outputs": []
    },
    {
      "cell_type": "code",
      "source": [
        "def tiempo_entrega(R, T_entrega):           # Definimos una funcion que asigne el tiempo que va a tardar cada orden\n",
        "  for inicio, fin, valor in T_entrega:      # A traves de un numero aleatorio R\n",
        "    if inicio <= R < fin:\n",
        "      return valor\n",
        "  return None"
      ],
      "metadata": {
        "id": "6p3ciOx-qC3q"
      },
      "execution_count": 4,
      "outputs": []
    },
    {
      "cell_type": "code",
      "source": [
        "def Inv_entario(Inv_I,q,Reor):                         # Definimos nuestra funcion de inventario ocupa los sig. aparametros: Inventario inicial, cantidad y punto de reorden\n",
        "    valores_meses = [                                  # Factor estacional que le corresponde a cada mes\n",
        "        (1, 1.2), (2, 1.00), (3, 0.90), (4, 0.80),\n",
        "        (5, 0.80), (6, 0.70), (7, 0.80), (8, 0.90),\n",
        "        (9, 1.00), (10, 1.20), (11, 1.30), (12, 1.40)\n",
        "    ]\n",
        "\n",
        "    intervalos = [                                     # Dependiendo de donde caiga mi R se le asigna un valor a x\n",
        "        (0.000, 0.010, 35), (0.010, 0.025, 36), (0.025, 0.045, 37),\n",
        "        (0.045, 0.065, 38), (0.065, 0.087, 39), (0.087, 0.110, 40),\n",
        "        (0.110, 0.135, 41), (0.135, 0.162, 42), (0.162, 0.190, 43),\n",
        "        (0.190, 0.219, 44), (0.219, 0.254, 45), (0.254, 0.299, 46),\n",
        "        (0.299, 0.359, 47), (0.359, 0.424, 48), (0.424, 0.494, 49),\n",
        "        (0.494, 0.574, 50), (0.574, 0.649, 51), (0.649, 0.719, 52),\n",
        "        (0.719, 0.784, 53), (0.784, 0.844, 54), (0.844, 0.894, 55),\n",
        "        (0.894, 0.934, 56), (0.934, 0.964, 57), (0.964, 0.980, 58),\n",
        "        (0.980, 0.995, 59), (0.995, 1.000, 60),\n",
        "    ]\n",
        "\n",
        "    T_entrega = [                                       # Dependiendo de donde caiga R se aigna un tiempo de llegada a la orden\n",
        "        (0.00, 0.30, 1), (0.30, 0.70, 2), (0.70, 1.00, 3),\n",
        "    ]\n",
        "\n",
        "    #Inv_I = 150               # Inventario inicial\n",
        "    Ordenes = 0               # Contador para las ordenes que se generen\n",
        "    Pedido_pendiente = 0      # Contador para los pedidos pendientes\n",
        "    Mes_pedido = {}\n",
        "    Faltante = 0              # Contador para los faltantes\n",
        "\n",
        "    Mes = []\n",
        "    Inv_inicial = []\n",
        "    Num_aleatorio = []\n",
        "    Dem_ajustada = []\n",
        "    Inv_final = []\n",
        "    Faltantes = []\n",
        "    Num_orden = []\n",
        "    Inv_promedio = []\n",
        "\n",
        "    # Usamos un bucle for para trabajar del mes 1 al 12\n",
        "    for mes, valor in valores_meses:\n",
        "        R = rnd.random()                      # Generamos un valor aleatorio R entre 0 y 1\n",
        "        x = asignar_valor(R, intervalos)      # Asignamos el valor de la demanda\n",
        "        DAj = valor * x                       # Ajuste de la demanda (Se aplica el factor estacional)\n",
        "        Dem_ajust = math.floor(DAj)           # Redondeamos\n",
        "\n",
        "        # Agregamos las 200 piezas en el mes correspondiente\n",
        "        if mes in Mes_pedido:\n",
        "            Inv_I += Mes_pedido[mes]\n",
        "            Pedido_pendiente -= Mes_pedido[mes]\n",
        "            del Mes_pedido[mes]\n",
        "\n",
        "        Inv_inicial.append(Inv_I)\n",
        "\n",
        "        Inv_F = Inv_I - Dem_ajust\n",
        "\n",
        "        # Si el Inventario F es negativo...\n",
        "        if Inv_F < 0:\n",
        "            Faltante += abs(Inv_F)  # Se agregara al contador de faltantes\n",
        "            Inv_F = 0     # Por lo tanto el inventario pasara a 0\n",
        "        else:\n",
        "            Faltante = 0  # Resetear faltante si no hay faltante\n",
        "\n",
        "        # Si en Inventario F es menor a 100\n",
        "        if Inv_F < Reor:\n",
        "            Ordenes += 1\n",
        "            Pedido_pendiente += q\n",
        "            t = tiempo_entrega(R, T_entrega)\n",
        "            mes_entrega = mes + t\n",
        "            if mes_entrega in Mes_pedido:\n",
        "                Mes_pedido[mes_entrega] += q\n",
        "\n",
        "            else:\n",
        "                Mes_pedido[mes_entrega] = q\n",
        "\n",
        "        # Obtenemos el inventario promedio...\n",
        "        if Inv_F == 0:   # Cuando el inventario final es 0 se ajusta la fórmula\n",
        "          IP = (Inv_I/2) * (Inv_I/Dem_ajust)\n",
        "          Inv_Prom = math.ceil(IP)\n",
        "        else:\n",
        "          IP = (Inv_I + Inv_F)/2\n",
        "          Inv_Prom = math.ceil(IP)\n",
        "\n",
        "        #print(f\"Mes: {mes}, Dem_ajust: {Dem_ajust}, II: {Inv_I}, IF: {Inv_F}, Falt: {Faltante}, InvProm:{Inv_Prom}, Orden: {Ordenes}, Pedidos Pendientes: {Mes_pedido}\")\n",
        "\n",
        "        # Guardar los datos en las listas\n",
        "        Mes.append(mes)\n",
        "        Num_aleatorio.append(R)\n",
        "        Dem_ajustada.append(Dem_ajust)\n",
        "        Inv_final.append(Inv_F)\n",
        "        Faltantes.append(Faltante)\n",
        "        Num_orden.append(Ordenes)\n",
        "        Inv_promedio.append(Inv_Prom)\n",
        "\n",
        "        Inv_I = Inv_F - Faltante  # Ajustar Inv_I restando el faltante\n",
        "\n",
        "    # Creamos la tabla\n",
        "    data = {\n",
        "        'Mes': Mes,\n",
        "        'Inv_inicial': Inv_inicial,\n",
        "        'Num_aleatorio': Num_aleatorio,\n",
        "        'Dem_ajustada': Dem_ajustada,\n",
        "        'Inv_final': Inv_final,\n",
        "        'Faltantes': Faltantes,\n",
        "        'Num_orden': Num_orden,\n",
        "        'Inv_promedio': Inv_promedio\n",
        "    }\n",
        "\n",
        "    df = pd.DataFrame(data)\n",
        "\n",
        "    print(df.to_string(index=False))\n",
        "\n",
        "    print()\n",
        "\n",
        "    # Costos anuales\n",
        "    Cost_Ord = 100\n",
        "    Cost_Inv = 1.67\n",
        "    Cost_faltante = 50\n",
        "\n",
        "    Ord = set(Num_orden)\n",
        "    Ordenes_total = sum(Ord)*Cost_Ord\n",
        "    Faltante_total = sum(Faltantes)*Cost_faltante\n",
        "    InvP_total = sum(Inv_promedio)*Cost_Inv\n",
        "    Total = Ordenes_total+InvP_total+Faltante_total\n",
        "\n",
        "    print('Costo de ordenar: $',Ordenes_total)\n",
        "    print('Costo de inventario: $',\"{:.2f}\".format(InvP_total))\n",
        "    print('Costo faltante: $',Faltante_total)\n",
        "    print('Total: $',\"{:.2f}\".format(Total))\n",
        "\n",
        "    # Grafico\n",
        "    plt.plot(Mes,Inv_inicial,marker='o')\n",
        "    plt.xlim(0, max(Mes)+1)\n",
        "    plt.title('Gráfico del inventario')\n",
        "    plt.xlabel('Mes')\n",
        "    plt.ylabel('q')\n",
        "    plt.axhline(Reor, color='black', label='Reorden')\n",
        "    plt.legend()\n",
        "    plt.grid(True)"
      ],
      "metadata": {
        "id": "6OYWQToppqWm"
      },
      "execution_count": 11,
      "outputs": []
    },
    {
      "cell_type": "code",
      "source": [
        "Inv_entario(150,200,100)"
      ],
      "metadata": {
        "colab": {
          "base_uri": "https://localhost:8080/",
          "height": 784
        },
        "id": "NnAEMd90qOTH",
        "outputId": "1721a619-e2a3-4001-c751-2b0b22446f52"
      },
      "execution_count": 12,
      "outputs": [
        {
          "output_type": "stream",
          "name": "stdout",
          "text": [
            " Mes  Inv_inicial  Num_aleatorio  Dem_ajustada  Inv_final  Faltantes  Num_orden  Inv_promedio\n",
            "   1          150       0.910024            67         83          0          1           117\n",
            "   2           83       0.950476            57         26          0          2            55\n",
            "   3           26       0.895208            50          0         24          3             7\n",
            "   4          176       0.183724            34        142          0          3           159\n",
            "   5          342       0.981182            47        295          0          3           319\n",
            "   6          495       0.478985            34        461          0          3           478\n",
            "   7          461       0.489675            39        422          0          3           442\n",
            "   8          422       0.546943            45        377          0          3           400\n",
            "   9          377       0.837238            54        323          0          3           350\n",
            "  10          323       0.192110            52        271          0          3           297\n",
            "  11          271       0.607548            66        205          0          3           238\n",
            "  12          205       0.451026            68        137          0          3           171\n",
            "\n",
            "Costo de ordenar: $ 600\n",
            "Costo de inventario: $ 5065.11\n",
            "Costo faltante: $ 1200\n",
            "Total: $ 6865.11\n"
          ]
        },
        {
          "output_type": "display_data",
          "data": {
            "text/plain": [
              "<Figure size 640x480 with 1 Axes>"
            ],
            "image/png": "[encoded data removed]"
          },
          "metadata": {}
        }
      ]
    }
  ]
}