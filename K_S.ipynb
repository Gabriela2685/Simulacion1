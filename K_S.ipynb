{
  "nbformat": 4,
  "nbformat_minor": 0,
  "metadata": {
    "colab": {
      "provenance": [],
      "authorship_tag": "ABX9TyPfLXWd0FMnlwWeooEvj4oa",
      "include_colab_link": true
    },
    "kernelspec": {
      "name": "python3",
      "display_name": "Python 3"
    },
    "language_info": {
      "name": "python"
    }
  },
  "cells": [
    {
      "cell_type": "markdown",
      "metadata": {
        "id": "view-in-github",
        "colab_type": "text"
      },
      "source": [
        "<a href=\"https://colab.research.google.com/github/Gabriela2685/Simulacion1/blob/main/K_S.ipynb\" target=\"_parent\"><img src=\"https://colab.research.google.com/assets/colab-badge.svg\" alt=\"Open In Colab\"/></a>"
      ]
    },
    {
      "cell_type": "markdown",
      "source": [
        "**Prueba de Kolmogorav-Smirnov**    \n",
        "Se utiliza para probar si existe una diferencia significativa entre la distribución de frecuencias observadas y una distrbucion de frecuencias teórica."
      ],
      "metadata": {
        "id": "mDQNi_uJ36Vj"
      }
    },
    {
      "cell_type": "code",
      "execution_count": 1,
      "metadata": {
        "colab": {
          "base_uri": "https://localhost:8080/"
        },
        "id": "wXQ5F-ApT9DC",
        "outputId": "2c8789b1-3cd2-48f9-e7e5-a2f03a6763ae"
      },
      "outputs": [
        {
          "output_type": "stream",
          "name": "stdout",
          "text": [
            "Mounted at /content/gdrive\n"
          ]
        }
      ],
      "source": [
        "from google.colab import drive\n",
        "drive.mount('/content/gdrive')"
      ]
    },
    {
      "cell_type": "code",
      "source": [
        "import numpy as np\n",
        "import pandas as pd\n",
        "import scipy.stats as st\n",
        "from scipy.stats import chisquare\n",
        "import matplotlib.pyplot as plt\n",
        "import seaborn as sns"
      ],
      "metadata": {
        "id": "TKeRpUs1Uxdz"
      },
      "execution_count": 2,
      "outputs": []
    },
    {
      "cell_type": "code",
      "source": [
        "data = pd.read_csv('/content/gdrive/MyDrive/Simulación 1/Datos.csv',header=None)"
      ],
      "metadata": {
        "id": "i7wIOk08Uyay"
      },
      "execution_count": 18,
      "outputs": []
    },
    {
      "cell_type": "code",
      "source": [
        "print(data.head())"
      ],
      "metadata": {
        "colab": {
          "base_uri": "https://localhost:8080/"
        },
        "id": "uIQTsXACVQIG",
        "outputId": "9ecf2758-430d-4a81-836b-b81ec82d53e4"
      },
      "execution_count": 43,
      "outputs": [
        {
          "output_type": "stream",
          "name": "stdout",
          "text": [
            "        0\n",
            "0  0.8797\n",
            "1  0.9848\n",
            "2  0.4557\n",
            "3  0.9170\n",
            "4  0.8376\n"
          ]
        }
      ]
    },
    {
      "cell_type": "code",
      "source": [
        "data_ord = data.sort_values(by=0, ascending=False) # Ordenar valores de mayor a menos\n",
        "print(data_ord.head())"
      ],
      "metadata": {
        "id": "ki4yLhAIdLyE",
        "outputId": "cdbd89ea-fb3f-4911-e667-613d7a0152e5",
        "colab": {
          "base_uri": "https://localhost:8080/"
        }
      },
      "execution_count": 42,
      "outputs": [
        {
          "output_type": "stream",
          "name": "stdout",
          "text": [
            "         0\n",
            "30  0.9996\n",
            "1   0.9848\n",
            "45  0.9606\n",
            "3   0.9170\n",
            "17  0.8846\n"
          ]
        }
      ]
    },
    {
      "cell_type": "markdown",
      "source": [
        "La función *np.sort()* ordena un array de manera ascendente por defecto. Es decir, reorganiza los elementos del array en orden creciente. Esta función no modifica el array original, sino que devuelve una copia ordenada del mismo."
      ],
      "metadata": {
        "id": "isSh9cxb3cK7"
      }
    },
    {
      "cell_type": "markdown",
      "source": [
        "La función *pd.sort_values(by,ascending)* ordena los datos de mayor a menor."
      ],
      "metadata": {
        "id": "mFDzivsG8w-_"
      }
    },
    {
      "cell_type": "code",
      "source": [
        "for _ in range(len(data_ord)):\n",
        "  D_positivo = abs((data_ord.index)/(len(data_ord))-(data_ord[0]))\n",
        "  data_ord['D+'] = D_positivo #A data_ord agragamos una columna con los resultado de D+\n",
        "\n",
        "print(data_ord.head())"
      ],
      "metadata": {
        "id": "NM7HhV4Z7o49",
        "outputId": "8e8603ac-6e94-4d8c-ba70-ebbc77984d77",
        "colab": {
          "base_uri": "https://localhost:8080/"
        }
      },
      "execution_count": 31,
      "outputs": [
        {
          "output_type": "stream",
          "name": "stdout",
          "text": [
            "         0      D+\n",
            "30  0.9996  0.3996\n",
            "1   0.9848  0.9648\n",
            "45  0.9606  0.0606\n",
            "3   0.9170  0.8570\n",
            "17  0.8846  0.5446\n"
          ]
        }
      ]
    },
    {
      "cell_type": "code",
      "source": [
        "for _ in range(len(data_ord)):\n",
        "  D_negativo = abs(data_ord[0]-((data_ord.index)-1)/len(data_ord))\n",
        "  data_ord['D-'] = D_negativo #A data_ord agragamos una columna con los resultado de D+\n",
        "\n",
        "print(data_ord.head())"
      ],
      "metadata": {
        "id": "kxxgzCCJ6sQW",
        "outputId": "9ea0894b-ca90-4e71-afe6-075913136fc4",
        "colab": {
          "base_uri": "https://localhost:8080/"
        }
      },
      "execution_count": 32,
      "outputs": [
        {
          "output_type": "stream",
          "name": "stdout",
          "text": [
            "         0      D+      D-\n",
            "30  0.9996  0.3996  0.4196\n",
            "1   0.9848  0.9648  0.9848\n",
            "45  0.9606  0.0606  0.0806\n",
            "3   0.9170  0.8570  0.8770\n",
            "17  0.8846  0.5446  0.5646\n"
          ]
        }
      ]
    },
    {
      "cell_type": "code",
      "source": [
        "print(data_ord[['D+','D-']].max())\n",
        "print(data_ord[['D+','D-']].max().max())"
      ],
      "metadata": {
        "id": "EB5ni_pfCsZw",
        "outputId": "8cb1f887-d404-4ef2-f97e-cfe1d4858b66",
        "colab": {
          "base_uri": "https://localhost:8080/"
        }
      },
      "execution_count": 39,
      "outputs": [
        {
          "output_type": "stream",
          "name": "stdout",
          "text": [
            "D+    0.9648\n",
            "D-    0.9848\n",
            "dtype: float64\n",
            "0.9848\n"
          ]
        }
      ]
    }
  ]
}