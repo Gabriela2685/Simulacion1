{
  "nbformat": 4,
  "nbformat_minor": 0,
  "metadata": {
    "colab": {
      "provenance": [],
      "include_colab_link": true
    },
    "kernelspec": {
      "name": "python3",
      "display_name": "Python 3"
    },
    "language_info": {
      "name": "python"
    }
  },
  "cells": [
    {
      "cell_type": "markdown",
      "metadata": {
        "id": "view-in-github",
        "colab_type": "text"
      },
      "source": [
        "<a href=\"https://colab.research.google.com/github/Gabriela2685/Simulacion1/blob/main/K_S.ipynb\" target=\"_parent\"><img src=\"https://colab.research.google.com/assets/colab-badge.svg\" alt=\"Open In Colab\"/></a>"
      ]
    },
    {
      "cell_type": "markdown",
      "source": [
        "# Prueba de Kolmogorav-Smirnov\n",
        "Carmen Gabriela Angulo Payán"
      ],
      "metadata": {
        "id": "mDQNi_uJ36Vj"
      }
    },
    {
      "cell_type": "markdown",
      "source": [
        "# Descripción\n",
        "Se utiliza para probar si existe una diferencia significativa entre la distribución de frecuencias observadas y una distrbucion de frecuencias teórica."
      ],
      "metadata": {
        "id": "ZVkFFwyi_lDl"
      }
    },
    {
      "cell_type": "code",
      "source": [
        "import numpy as np\n",
        "import pandas as pd\n",
        "import scipy.stats as st\n",
        "from scipy.stats import chisquare\n",
        "import matplotlib.pyplot as plt\n",
        "import seaborn as sns"
      ],
      "metadata": {
        "id": "TKeRpUs1Uxdz"
      },
      "execution_count": 1,
      "outputs": []
    },
    {
      "cell_type": "code",
      "source": [
        "data = pd.read_csv('https://docs.google.com/spreadsheets/d/e/2PACX-1vRlHArPUEnqNLvPdJCpnek4WS-032E_BC3A03oAGX0H_v86I_MYYBmR9dpja1P9tQ/pub?gid=1203553762&single=true&output=csv',header=None)"
      ],
      "metadata": {
        "id": "i7wIOk08Uyay"
      },
      "execution_count": 2,
      "outputs": []
    },
    {
      "cell_type": "code",
      "source": [
        "print(data.head())"
      ],
      "metadata": {
        "colab": {
          "base_uri": "https://localhost:8080/"
        },
        "id": "uIQTsXACVQIG",
        "outputId": "8ddbbb5c-9348-4109-af97-e9a3ee7cac01"
      },
      "execution_count": 3,
      "outputs": [
        {
          "output_type": "stream",
          "name": "stdout",
          "text": [
            "        0\n",
            "0  0.8797\n",
            "1  0.9848\n",
            "2  0.4557\n",
            "3  0.9170\n",
            "4  0.8376\n"
          ]
        }
      ]
    },
    {
      "cell_type": "code",
      "source": [
        "data_ord = data.sort_values(by=0, ascending=True) # Ordenar valores de menor a mayor\n",
        "data_ord.reset_index(inplace=True, drop=True)\n",
        "print(data_ord.head())"
      ],
      "metadata": {
        "id": "ki4yLhAIdLyE",
        "outputId": "9b43cb62-807c-41f3-8117-9a4f786477e8",
        "colab": {
          "base_uri": "https://localhost:8080/"
        }
      },
      "execution_count": null,
      "outputs": [
        {
          "output_type": "stream",
          "name": "stdout",
          "text": [
            "        0\n",
            "0  0.0318\n",
            "1  0.0856\n",
            "2  0.0954\n",
            "3  0.1492\n",
            "4  0.1525\n"
          ]
        }
      ]
    },
    {
      "cell_type": "markdown",
      "source": [
        "La función *np.sort()* ordena un array de manera ascendente por defecto. Es decir, reorganiza los elementos del array en orden creciente. Esta función no modifica el array original, sino que devuelve una copia ordenada del mismo."
      ],
      "metadata": {
        "id": "isSh9cxb3cK7"
      }
    },
    {
      "cell_type": "markdown",
      "source": [
        "La función *pd.sort_values(by,ascending)* ordena los datos de mayor a menor."
      ],
      "metadata": {
        "id": "mFDzivsG8w-_"
      }
    },
    {
      "cell_type": "markdown",
      "source": [
        "*inplace=True:* Especifica que el DataFrame original debe ser modificado en su lugar, en lugar de devolver un nuevo DataFrame.    \n",
        "*drop=True:* Se utiliza para indicar si se debe eliminar la columna del índice anterior después de restablecer el índice. Si se establece en True, la columna del índice anterior se eliminará; si se establece en False, se conservará como una columna en el DataFrame."
      ],
      "metadata": {
        "id": "_bhGDhesC2lA"
      }
    },
    {
      "cell_type": "code",
      "source": [
        "for _ in range(len(data_ord)):\n",
        "  D_positivo = abs((data_ord.index)/(len(data_ord))-(data_ord[0]))\n",
        "  data_ord['D+'] = D_positivo #A data_ord agragamos una columna con los resultado de D+\n",
        "\n",
        "print(data_ord.head())"
      ],
      "metadata": {
        "id": "NM7HhV4Z7o49",
        "outputId": "93e57cfb-abfb-4e0c-fba0-5a4effc2b0f2",
        "colab": {
          "base_uri": "https://localhost:8080/"
        }
      },
      "execution_count": null,
      "outputs": [
        {
          "output_type": "stream",
          "name": "stdout",
          "text": [
            "        0      D+\n",
            "0  0.0318  0.0318\n",
            "1  0.0856  0.0656\n",
            "2  0.0954  0.0554\n",
            "3  0.1492  0.0892\n",
            "4  0.1525  0.0725\n"
          ]
        }
      ]
    },
    {
      "cell_type": "code",
      "source": [
        "for _ in range(len(data_ord)):\n",
        "  D_negativo = abs(data_ord[0]-((data_ord.index)-1)/len(data_ord))\n",
        "  data_ord['D-'] = D_negativo #A data_ord agragamos una columna con los resultado de D+\n",
        "\n",
        "print(data_ord.head())"
      ],
      "metadata": {
        "id": "kxxgzCCJ6sQW",
        "outputId": "614f10b4-a118-4c8a-ac14-4042d87b3e60",
        "colab": {
          "base_uri": "https://localhost:8080/"
        }
      },
      "execution_count": null,
      "outputs": [
        {
          "output_type": "stream",
          "name": "stdout",
          "text": [
            "        0      D+      D-\n",
            "0  0.0318  0.0318  0.0518\n",
            "1  0.0856  0.0656  0.0856\n",
            "2  0.0954  0.0554  0.0754\n",
            "3  0.1492  0.0892  0.1092\n",
            "4  0.1525  0.0725  0.0925\n"
          ]
        }
      ]
    },
    {
      "cell_type": "code",
      "source": [
        "print(data_ord[['D+','D-']].max())\n",
        "D = data_ord[['D+','D-']].max().max()\n",
        "print(D)"
      ],
      "metadata": {
        "id": "EB5ni_pfCsZw",
        "outputId": "02ddefa8-f5f9-43e0-b826-133b7ca0079d",
        "colab": {
          "base_uri": "https://localhost:8080/"
        }
      },
      "execution_count": null,
      "outputs": [
        {
          "output_type": "stream",
          "name": "stdout",
          "text": [
            "D+    0.0988\n",
            "D-    0.1188\n",
            "dtype: float64\n",
            "0.11879999999999996\n"
          ]
        }
      ]
    }
  ]
}