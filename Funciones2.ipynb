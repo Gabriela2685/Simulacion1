{
  "nbformat": 4,
  "nbformat_minor": 0,
  "metadata": {
    "colab": {
      "provenance": [],
      "authorship_tag": "ABX9TyO3jJaKUOKtWm2cdtOUX4Av",
      "include_colab_link": true
    },
    "kernelspec": {
      "name": "python3",
      "display_name": "Python 3"
    },
    "language_info": {
      "name": "python"
    }
  },
  "cells": [
    {
      "cell_type": "markdown",
      "metadata": {
        "id": "view-in-github",
        "colab_type": "text"
      },
      "source": [
        "<a href=\"https://colab.research.google.com/github/Gabriela2685/Simulacion1/blob/main/Funciones2.ipynb\" target=\"_parent\"><img src=\"https://colab.research.google.com/assets/colab-badge.svg\" alt=\"Open In Colab\"/></a>"
      ]
    },
    {
      "cell_type": "code",
      "execution_count": 1,
      "metadata": {
        "id": "iv-VSaGLr9fy"
      },
      "outputs": [],
      "source": [
        "import random as rnd\n",
        "import matplotlib.pyplot as plt"
      ]
    },
    {
      "cell_type": "code",
      "source": [
        "def Ber(p,n):\n",
        "  lista = []\n",
        "  for i in range(n):\n",
        "    x = rnd.random()\n",
        "    if x<=(1-p):\n",
        "      lista.append(1)\n",
        "    else:\n",
        "      lista.append(0)\n",
        "  return lista"
      ],
      "metadata": {
        "id": "8bDgXqPksPii"
      },
      "execution_count": 4,
      "outputs": []
    },
    {
      "cell_type": "markdown",
      "source": [
        "# Bernoulli"
      ],
      "metadata": {
        "id": "MLNo09kps2gT"
      }
    },
    {
      "cell_type": "code",
      "source": [
        "G = Ber(0.25,100)\n",
        "plt.hist(G)"
      ],
      "metadata": {
        "colab": {
          "base_uri": "https://localhost:8080/",
          "height": 482
        },
        "id": "WDGJTX6NsjZW",
        "outputId": "524f3626-cd5a-4d91-e616-8ee563a790d5"
      },
      "execution_count": 5,
      "outputs": [
        {
          "output_type": "execute_result",
          "data": {
            "text/plain": [
              "(array([27.,  0.,  0.,  0.,  0.,  0.,  0.,  0.,  0., 73.]),\n",
              " array([0. , 0.1, 0.2, 0.3, 0.4, 0.5, 0.6, 0.7, 0.8, 0.9, 1. ]),\n",
              " <BarContainer object of 10 artists>)"
            ]
          },
          "metadata": {},
          "execution_count": 5
        },
        {
          "output_type": "display_data",
          "data": {
            "text/plain": [
              "<Figure size 640x480 with 1 Axes>"
            ],
            "image/png": "[encoded data removed]"
          },
          "metadata": {}
        }
      ]
    }
  ]
}