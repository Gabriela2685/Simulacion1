{
  "nbformat": 4,
  "nbformat_minor": 0,
  "metadata": {
    "colab": {
      "provenance": [],
      "include_colab_link": true
    },
    "kernelspec": {
      "name": "python3",
      "display_name": "Python 3"
    },
    "language_info": {
      "name": "python"
    }
  },
  "cells": [
    {
      "cell_type": "markdown",
      "metadata": {
        "id": "view-in-github",
        "colab_type": "text"
      },
      "source": [
        "<a href=\"https://colab.research.google.com/github/Gabriela2685/Simulacion1/blob/main/Cuadrado_medio_APCG.ipynb\" target=\"_parent\"><img src=\"https://colab.research.google.com/assets/colab-badge.svg\" alt=\"Open In Colab\"/></a>"
      ]
    },
    {
      "cell_type": "markdown",
      "source": [
        "# Cuadrado medio\n",
        "Carmen Gabriela Angulo Payán\n"
      ],
      "metadata": {
        "id": "uaNLV0TYlQQI"
      }
    },
    {
      "cell_type": "markdown",
      "source": [
        "# Desventajas\n",
        "\n",
        "\n",
        "*   Se cicla rápidamente\n",
        "*   Se degenera si la semilla contiene ceros\n",
        "\n"
      ],
      "metadata": {
        "id": "0Tiv7jCHmeZi"
      }
    },
    {
      "cell_type": "code",
      "source": [
        "#Programa\n",
        "\n",
        "# Numeros de 4 dígitos\n",
        "semilla = 3456\n",
        "iteraciones = 10\n",
        "numeros_aleatorios = []\n",
        "\n",
        "for _ in range(iteraciones):\n",
        "    semilla_cuadrada = semilla ** 2\n",
        "    longitud_semilla = len(str(semilla))\n",
        "    # Agregamos ceros\n",
        "    semilla_str = str(semilla_cuadrada).zfill(longitud_semilla * 2)\n",
        "    # Dividimos la longitud en 2 para hallar los numeros centrales\n",
        "    indice_inicio = longitud_semilla // 2\n",
        "    indice_fin = indice_inicio + longitud_semilla\n",
        "    nuevo_numero = int(semilla_str[indice_inicio:indice_fin])\n",
        "    numeros_aleatorios.append(nuevo_numero / (10 ** longitud_semilla))\n",
        "    semilla = nuevo_numero\n",
        "\n",
        "print(numeros_aleatorios)\n"
      ],
      "metadata": {
        "colab": {
          "base_uri": "https://localhost:8080/"
        },
        "id": "IkRixI5sPm4X",
        "outputId": "6768fa76-c313-45ce-cf0b-c0313c9e2472"
      },
      "execution_count": 1,
      "outputs": [
        {
          "output_type": "stream",
          "name": "stdout",
          "text": [
            "[0.9439, 0.0947, 0.968, 0.37, 0.369, 0.361, 0.303, 0.918, 0.427, 0.823]\n"
          ]
        }
      ]
    }
  ]
}