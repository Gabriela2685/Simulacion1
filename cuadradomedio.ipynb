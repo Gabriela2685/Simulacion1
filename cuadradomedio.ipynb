{
  "nbformat": 4,
  "nbformat_minor": 0,
  "metadata": {
    "colab": {
      "provenance": [],
      "include_colab_link": true
    },
    "kernelspec": {
      "name": "python3",
      "display_name": "Python 3"
    },
    "language_info": {
      "name": "python"
    }
  },
  "cells": [
    {
      "cell_type": "markdown",
      "metadata": {
        "id": "view-in-github",
        "colab_type": "text"
      },
      "source": [
        "<a href=\"https://colab.research.google.com/github/Gabriela2685/Simulacion1/blob/main/cuadradomedio.ipynb\" target=\"_parent\"><img src=\"https://colab.research.google.com/assets/colab-badge.svg\" alt=\"Open In Colab\"/></a>"
      ]
    },
    {
      "cell_type": "code",
      "execution_count": 2,
      "metadata": {
        "colab": {
          "base_uri": "https://localhost:8080/"
        },
        "id": "D6CQTWmbKs5o",
        "outputId": "76634926-6d83-4727-b84f-7374a2788e61"
      },
      "outputs": [
        {
          "output_type": "stream",
          "name": "stdout",
          "text": [
            "4511376\n",
            "04511376\n"
          ]
        },
        {
          "output_type": "execute_result",
          "data": {
            "text/plain": [
              "8"
            ]
          },
          "metadata": {},
          "execution_count": 2
        }
      ],
      "source": [
        "A=[]\n",
        "\n",
        "x0=2124\n",
        "x=x0**2\n",
        "\n",
        "y='0'\n",
        "z='0'+str(x)\n",
        "print(x)\n",
        "len(str(x))\n",
        "print(z)\n",
        "len(z)\n",
        "\n"
      ]
    },
    {
      "cell_type": "code",
      "source": [
        "#Cuadrados medios\n",
        "semilla = 3456\n",
        "iteraciones = 10\n",
        "numeros_aleatorios = []\n",
        "\n",
        "for _ in range(iteraciones):\n",
        "    semilla_cuadrada = semilla ** 2\n",
        "    longitud_semilla = len(str(semilla))\n",
        "    semilla_str = str(semilla_cuadrada).zfill(longitud_semilla * 2)\n",
        "    indice_inicio = longitud_semilla // 2\n",
        "    indice_fin = indice_inicio + longitud_semilla\n",
        "    nuevo_numero = int(semilla_str[indice_inicio:indice_fin])\n",
        "    numeros_aleatorios.append(nuevo_numero / (10 ** longitud_semilla))\n",
        "    semilla = nuevo_numero\n",
        "\n",
        "print(numeros_aleatorios)\n"
      ],
      "metadata": {
        "colab": {
          "base_uri": "https://localhost:8080/"
        },
        "id": "IkRixI5sPm4X",
        "outputId": "777fae61-0cf7-4207-ca62-4cc9aad02471"
      },
      "execution_count": 8,
      "outputs": [
        {
          "output_type": "stream",
          "name": "stdout",
          "text": [
            "[0.9439, 0.0947, 0.968, 0.37, 0.369, 0.361, 0.303, 0.918, 0.427, 0.823]\n"
          ]
        }
      ]
    }
  ]
}