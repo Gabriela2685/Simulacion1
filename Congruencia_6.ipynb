{
  "nbformat": 4,
  "nbformat_minor": 0,
  "metadata": {
    "colab": {
      "provenance": [],
      "authorship_tag": "ABX9TyMAFU05KiWrzhvxhS9PdBm+",
      "include_colab_link": true
    },
    "kernelspec": {
      "name": "python3",
      "display_name": "Python 3"
    },
    "language_info": {
      "name": "python"
    }
  },
  "cells": [
    {
      "cell_type": "markdown",
      "metadata": {
        "id": "view-in-github",
        "colab_type": "text"
      },
      "source": [
        "<a href=\"https://colab.research.google.com/github/Gabriela2685/Simulacion1/blob/main/Congruencia_6.ipynb\" target=\"_parent\"><img src=\"https://colab.research.google.com/assets/colab-badge.svg\" alt=\"Open In Colab\"/></a>"
      ]
    },
    {
      "cell_type": "markdown",
      "source": [
        "# Método de congruencia (Ejercicio 6)\n",
        "Usando la primer muestra de números aleatorios generados por el inciso a) del ejercicio uno, aplicamos la prueba de bondad para conocer si se sigue una distribución uniforme."
      ],
      "metadata": {
        "id": "hw9GPA_EEq7I"
      }
    },
    {
      "cell_type": "code",
      "source": [
        "import numpy as np\n",
        "import pandas as pd\n",
        "import scipy.stats as st\n",
        "from scipy.stats import chisquare\n",
        "import matplotlib.pyplot as plt\n",
        "import seaborn as sns"
      ],
      "metadata": {
        "id": "ou2GtNJIDSH1"
      },
      "execution_count": 3,
      "outputs": []
    },
    {
      "cell_type": "code",
      "execution_count": 1,
      "metadata": {
        "colab": {
          "base_uri": "https://localhost:8080/"
        },
        "id": "HhxP1ZUQCBJQ",
        "outputId": "5b04964c-9fe7-49ef-f758-5c220cc2a8b3"
      },
      "outputs": [
        {
          "output_type": "stream",
          "name": "stdout",
          "text": [
            "Iteracion: 30\n",
            "[0.7096774193548387, 0.3870967741935484, 0.6129032258064516, 0.3548387096774194, 0.9354838709677419, 0.12903225806451613, 0.1935483870967742, 0.5483870967741935, 0.0, 0.4838709677419355, 0.6451612903225806, 0.03225806451612903, 0.16129032258064516, 0.8709677419354839, 0.7741935483870968, 0.7419354838709677, 0.06451612903225806, 0.8387096774193549, 0.0967741935483871, 0.5161290322580645, 0.3225806451612903, 0.25806451612903225, 0.9032258064516129, 0.45161290322580644, 0.967741935483871, 0.8064516129032258, 0.41935483870967744, 0.2903225806451613, 0.5806451612903226, 0.6774193548387096]\n"
          ]
        }
      ],
      "source": [
        "x0 = 21\n",
        "a = 21\n",
        "c = 15\n",
        "m = 31\n",
        "\n",
        "r = []\n",
        "values_seen = set()\n",
        "iteracion = 0\n",
        "\n",
        "while True:\n",
        "    x1 = (a * x0 + c) % m\n",
        "\n",
        "    if x1 in values_seen:\n",
        "        break\n",
        "\n",
        "    values_seen.add(x1)\n",
        "    r.append(x1 / m)\n",
        "\n",
        "    x0 = x1\n",
        "    iteracion += 1\n",
        "\n",
        "print('Iteracion:',iteracion)\n",
        "print(r)"
      ]
    },
    {
      "cell_type": "code",
      "source": [
        "plt.hist(r,bins=5,color='blue',ec='black')"
      ],
      "metadata": {
        "colab": {
          "base_uri": "https://localhost:8080/",
          "height": 499
        },
        "id": "B8JfjUzuDJkK",
        "outputId": "41447461-68d3-44a0-8325-101ae367af98"
      },
      "execution_count": 8,
      "outputs": [
        {
          "output_type": "execute_result",
          "data": {
            "text/plain": [
              "(array([6., 5., 6., 6., 7.]),\n",
              " array([0.        , 0.19354839, 0.38709677, 0.58064516, 0.77419355,\n",
              "        0.96774194]),\n",
              " <BarContainer object of 5 artists>)"
            ]
          },
          "metadata": {},
          "execution_count": 8
        },
        {
          "output_type": "display_data",
          "data": {
            "text/plain": [
              "<Figure size 640x480 with 1 Axes>"
            ],
            "image/png": "[encoded data removed]"
          },
          "metadata": {}
        }
      ]
    },
    {
      "cell_type": "code",
      "source": [
        "frecuencias, bins= np.histogram(r, bins=5)\n",
        "fo=frecuencias.tolist()\n",
        "print('Frecuencias observadas:', fo)"
      ],
      "metadata": {
        "colab": {
          "base_uri": "https://localhost:8080/"
        },
        "id": "mar75NaMDoVq",
        "outputId": "2efc1b8a-1ee5-4255-8d2c-f038a4a0fb86"
      },
      "execution_count": 5,
      "outputs": [
        {
          "output_type": "stream",
          "name": "stdout",
          "text": [
            "Frecuencias observadas: [6, 5, 6, 6, 7]\n"
          ]
        }
      ]
    },
    {
      "cell_type": "code",
      "source": [
        "fe = []\n",
        "fi = sum(fo)/len(fo)\n",
        "for _ in range(len(fo)):\n",
        "  fe.append(fi)\n",
        "\n",
        "print('Frecuencias esperadas:', fe)"
      ],
      "metadata": {
        "colab": {
          "base_uri": "https://localhost:8080/"
        },
        "id": "EzZdznTsD3p_",
        "outputId": "b5fd901f-42a6-49c4-9182-a3b42d61621f"
      },
      "execution_count": 10,
      "outputs": [
        {
          "output_type": "stream",
          "name": "stdout",
          "text": [
            "Frecuencias esperadas: [6.0, 6.0, 6.0, 6.0, 6.0]\n"
          ]
        }
      ]
    },
    {
      "cell_type": "code",
      "source": [
        "chi2, p_value = chisquare(fo,fe)\n",
        "a = 0.05\n",
        "\n",
        "print('chi_cuadrado:', chi2)\n",
        "print('p-values:', p_value)\n",
        "print('alpha =',a)\n",
        "\n",
        "# Se sigue una distribución uniforme"
      ],
      "metadata": {
        "colab": {
          "base_uri": "https://localhost:8080/"
        },
        "id": "B1oWiNXYD_tz",
        "outputId": "5dba5eab-b269-4436-a329-4f1244e3ffab"
      },
      "execution_count": 7,
      "outputs": [
        {
          "output_type": "stream",
          "name": "stdout",
          "text": [
            "chi_cuadrado: 0.3333333333333333\n",
            "p-values: 0.9875620123723831\n",
            "alpha = 0.05\n"
          ]
        }
      ]
    },
    {
      "cell_type": "markdown",
      "source": [
        "Rechazar h0 si p-value <= a   \n",
        "No rechazar h0 si p-value > a"
      ],
      "metadata": {
        "id": "Wzpz1lkSEI8F"
      }
    }
  ]
}