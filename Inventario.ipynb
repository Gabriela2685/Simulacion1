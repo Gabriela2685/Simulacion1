{
  "nbformat": 4,
  "nbformat_minor": 0,
  "metadata": {
    "colab": {
      "provenance": [],
      "authorship_tag": "ABX9TyP2U3/I44Gy/0WtCxHhZWOD",
      "include_colab_link": true
    },
    "kernelspec": {
      "name": "python3",
      "display_name": "Python 3"
    },
    "language_info": {
      "name": "python"
    }
  },
  "cells": [
    {
      "cell_type": "markdown",
      "metadata": {
        "id": "view-in-github",
        "colab_type": "text"
      },
      "source": [
        "<a href=\"https://colab.research.google.com/github/Gabriela2685/Simulacion1/blob/main/Inventario.ipynb\" target=\"_parent\"><img src=\"https://colab.research.google.com/assets/colab-badge.svg\" alt=\"Open In Colab\"/></a>"
      ]
    },
    {
      "cell_type": "code",
      "execution_count": 191,
      "metadata": {
        "id": "9KKin5jECs0N"
      },
      "outputs": [],
      "source": [
        "import random as rnd\n",
        "import math\n",
        "import pandas as pd"
      ]
    },
    {
      "cell_type": "code",
      "source": [
        "def asignar_valor(R, intervalos):\n",
        "  for inicio, fin, valor in intervalos:\n",
        "    if inicio <= R < fin:\n",
        "      return valor\n",
        "  return None"
      ],
      "metadata": {
        "id": "h3eIYk25p82k"
      },
      "execution_count": 48,
      "outputs": []
    },
    {
      "cell_type": "code",
      "source": [
        "def tiempo_entrega(R, T_entrega):\n",
        "  for inicio, fin, valor in T_entrega:\n",
        "    if inicio <= R < fin:\n",
        "      return valor\n",
        "  return None"
      ],
      "metadata": {
        "id": "6p3ciOx-qC3q"
      },
      "execution_count": 152,
      "outputs": []
    },
    {
      "cell_type": "code",
      "source": [
        "import random as rnd\n",
        "import math\n",
        "import pandas as pd\n",
        "\n",
        "def asignar_valor(R, intervalos):\n",
        "    for intervalo in intervalos:\n",
        "        if intervalo[0] <= R < intervalo[1]:\n",
        "            return intervalo[2]\n",
        "    return intervalos[-1][2]\n",
        "\n",
        "def tiempo_entrega(R, T_entrega):\n",
        "    for intervalo in T_entrega:\n",
        "        if intervalo[0] <= R < intervalo[1]:\n",
        "            return intervalo[2]\n",
        "    return T_entrega[-1][2]\n",
        "\n",
        "def Inv_entario():\n",
        "    valores_meses = [\n",
        "        (1, 1.2), (2, 1.00), (3, 0.90), (4, 0.80),\n",
        "        (5, 0.80), (6, 0.70), (7, 0.80), (8, 0.90),\n",
        "        (9, 1.00), (10, 1.20), (11, 1.30), (12, 1.40)\n",
        "    ]\n",
        "\n",
        "    intervalos = [\n",
        "        (0.000, 0.010, 35), (0.010, 0.025, 36), (0.025, 0.045, 37),\n",
        "        (0.045, 0.065, 38), (0.065, 0.087, 39), (0.087, 0.110, 40),\n",
        "        (0.110, 0.135, 41), (0.135, 0.162, 42), (0.162, 0.190, 43),\n",
        "        (0.190, 0.219, 44), (0.219, 0.254, 45), (0.254, 0.299, 46),\n",
        "        (0.299, 0.359, 47), (0.359, 0.424, 48), (0.424, 0.494, 49),\n",
        "        (0.494, 0.574, 50), (0.574, 0.649, 51), (0.649, 0.719, 52),\n",
        "        (0.719, 0.784, 53), (0.784, 0.844, 54), (0.844, 0.894, 55),\n",
        "        (0.894, 0.934, 56), (0.934, 0.964, 57), (0.964, 0.980, 58),\n",
        "        (0.980, 0.995, 59), (0.995, 1.000, 60),\n",
        "    ]\n",
        "\n",
        "    T_entrega = [\n",
        "        (0.00, 0.30, 1), (0.30, 0.70, 2), (0.70, 1.00, 3),\n",
        "    ]\n",
        "\n",
        "    Inv_I = 150\n",
        "    Ordenes = 0\n",
        "    Pedido_pendiente = 0\n",
        "    Mes_pedido = {}\n",
        "    Faltante = 0\n",
        "\n",
        "    Mes = []\n",
        "    Inv_inicial = []\n",
        "    Num_aleatorio = []\n",
        "    Dem_ajustada = []\n",
        "    Inv_final = []\n",
        "    Faltantes = []\n",
        "    Num_orden = []\n",
        "    Inv_promedio = []\n",
        "\n",
        "    for mes, valor in valores_meses:\n",
        "        R = rnd.random()  # Generar un valor aleatorio R entre 0 y 1\n",
        "        x = asignar_valor(R, intervalos)\n",
        "        DAj = valor * x\n",
        "        Dem_ajust = math.floor(DAj)\n",
        "\n",
        "        # Guardar el inventario inicial antes de actualizarlo\n",
        "        Inv_inicial.append(Inv_I)\n",
        "\n",
        "        if mes in Mes_pedido:\n",
        "            Inv_I += Mes_pedido[mes]\n",
        "            Pedido_pendiente -= Mes_pedido[mes]\n",
        "            del Mes_pedido[mes]\n",
        "\n",
        "        Inv_F = Inv_I - Dem_ajust\n",
        "\n",
        "        if Inv_F < 0:\n",
        "            Faltante += abs(Inv_F)\n",
        "            Inv_F = 0\n",
        "        else:\n",
        "            Faltante = 0  # Resetear faltante si no hay faltante\n",
        "\n",
        "        if Inv_F < 100:\n",
        "            Ordenes += 1\n",
        "            Pedido_pendiente += 200\n",
        "            t = tiempo_entrega(R, T_entrega)\n",
        "            mes_entrega = mes + t\n",
        "            if mes_entrega in Mes_pedido:\n",
        "                Mes_pedido[mes_entrega] += 200\n",
        "            else:\n",
        "                Mes_pedido[mes_entrega] = 200\n",
        "\n",
        "        if Inv_F == 0:\n",
        "          IP = (Inv_I/2) * (Inv_I/Dem_ajust)\n",
        "          Inv_Prom = math.ceil(IP)\n",
        "        else:\n",
        "          IP = (Inv_I + Inv_F)/2\n",
        "          Inv_Prom = math.ceil(IP)\n",
        "\n",
        "        print(f\"Mes: {mes}, Dem_ajust: {Dem_ajust}, II: {Inv_I}, IF: {Inv_F}, Falt: {Faltante}, InvProm:{Inv_Prom}, Orden: {Ordenes}, Pedidos Pendientes: {Mes_pedido}\")\n",
        "\n",
        "        # Guardar los datos en las listas\n",
        "        Mes.append(mes)\n",
        "        Num_aleatorio.append(R)\n",
        "        Dem_ajustada.append(Dem_ajust)\n",
        "        Inv_final.append(Inv_F)\n",
        "        Faltantes.append(Faltante)\n",
        "        Num_orden.append(Ordenes)\n",
        "        Inv_promedio.append(Inv_Prom)\n",
        "\n",
        "        Inv_I = Inv_F - Faltante  # Ajustar Inv_I restando el faltante\n",
        "\n",
        "    data = {\n",
        "        'Mes': Mes,\n",
        "        'Inv_inicial': Inv_inicial,\n",
        "        'Num_aleatorio': Num_aleatorio,\n",
        "        'Dem_ajustada': Dem_ajustada,\n",
        "        'Inv_final': Inv_final,\n",
        "        'Faltantes': Faltantes,\n",
        "        'Num_orden': Num_orden,\n",
        "        'Inv_promedio': Inv_promedio\n",
        "    }\n",
        "\n",
        "    df = pd.DataFrame(data)\n",
        "\n",
        "    print(df.to_string(index=False))"
      ],
      "metadata": {
        "id": "6OYWQToppqWm"
      },
      "execution_count": 237,
      "outputs": []
    },
    {
      "cell_type": "code",
      "source": [
        "Inv_entario()"
      ],
      "metadata": {
        "colab": {
          "base_uri": "https://localhost:8080/"
        },
        "id": "NnAEMd90qOTH",
        "outputId": "7ee08db5-3e31-41fc-cdfb-f922e90493e6"
      },
      "execution_count": 238,
      "outputs": [
        {
          "output_type": "stream",
          "name": "stdout",
          "text": [
            "Mes: 1, Dem_ajust: 67, II: 150, IF: 83, Falt: 0, InvProm:117, Orden: 1, Pedidos Pendientes: {4: 200}\n",
            "Mes: 2, Dem_ajust: 49, II: 83, IF: 34, Falt: 0, InvProm:59, Orden: 2, Pedidos Pendientes: {4: 400}\n",
            "Mes: 3, Dem_ajust: 50, II: 34, IF: 0, Falt: 16, InvProm:12, Orden: 3, Pedidos Pendientes: {4: 400, 6: 200}\n",
            "Mes: 4, Dem_ajust: 46, II: 384, IF: 338, Falt: 0, InvProm:361, Orden: 3, Pedidos Pendientes: {6: 200}\n",
            "Mes: 5, Dem_ajust: 39, II: 338, IF: 299, Falt: 0, InvProm:319, Orden: 3, Pedidos Pendientes: {6: 200}\n",
            "Mes: 6, Dem_ajust: 35, II: 499, IF: 464, Falt: 0, InvProm:482, Orden: 3, Pedidos Pendientes: {}\n",
            "Mes: 7, Dem_ajust: 44, II: 464, IF: 420, Falt: 0, InvProm:442, Orden: 3, Pedidos Pendientes: {}\n",
            "Mes: 8, Dem_ajust: 36, II: 420, IF: 384, Falt: 0, InvProm:402, Orden: 3, Pedidos Pendientes: {}\n",
            "Mes: 9, Dem_ajust: 51, II: 384, IF: 333, Falt: 0, InvProm:359, Orden: 3, Pedidos Pendientes: {}\n",
            "Mes: 10, Dem_ajust: 44, II: 333, IF: 289, Falt: 0, InvProm:311, Orden: 3, Pedidos Pendientes: {}\n",
            "Mes: 11, Dem_ajust: 71, II: 289, IF: 218, Falt: 0, InvProm:254, Orden: 3, Pedidos Pendientes: {}\n",
            "Mes: 12, Dem_ajust: 68, II: 218, IF: 150, Falt: 0, InvProm:184, Orden: 3, Pedidos Pendientes: {}\n",
            " Mes  Inv_inicial  Num_aleatorio  Dem_ajustada  Inv_final  Faltantes  Num_orden  Inv_promedio\n",
            "   1          150       0.916167            67         83          0          1           117\n",
            "   2           83       0.485752            49         34          0          2            59\n",
            "   3           34       0.898739            50          0         16          3            12\n",
            "   4          -16       0.969146            46        338          0          3           361\n",
            "   5          338       0.458944            39        299          0          3           319\n",
            "   6          299       0.509543            35        464          0          3           482\n",
            "   7          464       0.868229            44        420          0          3           442\n",
            "   8          420       0.127868            36        384          0          3           402\n",
            "   9          384       0.596092            51        333          0          3           359\n",
            "  10          333       0.044018            44        289          0          3           311\n",
            "  11          289       0.885146            71        218          0          3           254\n",
            "  12          218       0.489884            68        150          0          3           184\n"
          ]
        }
      ]
    }
  ]
}