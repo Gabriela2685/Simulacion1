{
  "nbformat": 4,
  "nbformat_minor": 0,
  "metadata": {
    "colab": {
      "provenance": [],
      "authorship_tag": "ABX9TyMqTgoBiBNeP5QNGsOPpcVW",
      "include_colab_link": true
    },
    "kernelspec": {
      "name": "python3",
      "display_name": "Python 3"
    },
    "language_info": {
      "name": "python"
    }
  },
  "cells": [
    {
      "cell_type": "markdown",
      "metadata": {
        "id": "view-in-github",
        "colab_type": "text"
      },
      "source": [
        "<a href=\"https://colab.research.google.com/github/Gabriela2685/Simulacion1/blob/main/Inventario.ipynb\" target=\"_parent\"><img src=\"https://colab.research.google.com/assets/colab-badge.svg\" alt=\"Open In Colab\"/></a>"
      ]
    },
    {
      "cell_type": "code",
      "execution_count": 191,
      "metadata": {
        "id": "9KKin5jECs0N"
      },
      "outputs": [],
      "source": [
        "import random as rnd\n",
        "import math\n",
        "import pandas as pd"
      ]
    },
    {
      "cell_type": "code",
      "source": [
        "def asignar_valor(R, intervalos):\n",
        "  for inicio, fin, valor in intervalos:\n",
        "    if inicio <= R < fin:\n",
        "      return valor\n",
        "  return None"
      ],
      "metadata": {
        "id": "h3eIYk25p82k"
      },
      "execution_count": 48,
      "outputs": []
    },
    {
      "cell_type": "code",
      "source": [
        "def tiempo_entrega(R, T_entrega):\n",
        "  for inicio, fin, valor in T_entrega:\n",
        "    if inicio <= R < fin:\n",
        "      return valor\n",
        "  return None"
      ],
      "metadata": {
        "id": "6p3ciOx-qC3q"
      },
      "execution_count": 152,
      "outputs": []
    },
    {
      "cell_type": "code",
      "source": [
        "def Inv_entario():\n",
        "    valores_meses = [\n",
        "        (1, 1.2), (2, 1.00), (3, 0.90), (4, 0.80),\n",
        "        (5, 0.80), (6, 0.70), (7, 0.80), (8, 0.90),\n",
        "        (9, 1.00), (10, 1.20), (11, 1.30), (12, 1.40)\n",
        "    ]\n",
        "\n",
        "    intervalos = [\n",
        "        (0.000, 0.010, 35), (0.010, 0.025, 36), (0.025, 0.045, 37),\n",
        "        (0.045, 0.065, 38), (0.065, 0.087, 39), (0.087, 0.110, 40),\n",
        "        (0.110, 0.135, 41), (0.135, 0.162, 42), (0.162, 0.190, 43),\n",
        "        (0.190, 0.219, 44), (0.219, 0.254, 45), (0.254, 0.299, 46),\n",
        "        (0.299, 0.359, 47), (0.359, 0.424, 48), (0.424, 0.494, 49),\n",
        "        (0.494, 0.574, 50), (0.574, 0.649, 51), (0.649, 0.719, 52),\n",
        "        (0.719, 0.784, 53), (0.784, 0.844, 54), (0.844, 0.894, 55),\n",
        "        (0.894, 0.934, 56), (0.934, 0.964, 57), (0.964, 0.980, 58),\n",
        "        (0.980, 0.995, 59), (0.995, 1.000, 60),\n",
        "    ]\n",
        "\n",
        "    T_entrega = [\n",
        "        (0.00, 0.30, 1), (0.30, 0.70, 2), (0.70, 1.00, 3),\n",
        "    ]\n",
        "\n",
        "    Inv_I = 150\n",
        "    Ordenes = 0\n",
        "    Pedido_pendiente = 0\n",
        "    Mes_pedido = {}\n",
        "    Faltante = 0\n",
        "\n",
        "    Mes = []\n",
        "    Inv_inicial = []\n",
        "    Num_aleatorio = []\n",
        "    Dem_ajustada = []\n",
        "    Inv_final = []\n",
        "    Faltantes = []\n",
        "    Num_orden = []\n",
        "    Inv_promedio = []\n",
        "\n",
        "    for mes, valor in valores_meses:\n",
        "        R = rnd.random()  # Generar un valor aleatorio R entre 0 y 1\n",
        "        x = asignar_valor(R, intervalos)\n",
        "        DAj = valor * x\n",
        "        Dem_ajust = math.floor(DAj)\n",
        "\n",
        "        # Guardar el inventario inicial antes de actualizarlo\n",
        "        Inv_inicial.append(Inv_I)\n",
        "\n",
        "        if mes in Mes_pedido:\n",
        "            Inv_I += Mes_pedido[mes]\n",
        "            Pedido_pendiente -= Mes_pedido[mes]\n",
        "            del Mes_pedido[mes]\n",
        "\n",
        "        Inv_F = Inv_I - Dem_ajust\n",
        "\n",
        "        if Inv_F < 0:\n",
        "            Faltante += abs(Inv_F)\n",
        "            Inv_F = 0\n",
        "        else:\n",
        "            Faltante = 0  # Resetear faltante si no hay faltante\n",
        "\n",
        "        if Inv_F < 100:\n",
        "            Ordenes += 1\n",
        "            Pedido_pendiente += 200\n",
        "            t = tiempo_entrega(R, T_entrega)\n",
        "            mes_entrega = mes + t\n",
        "            if mes_entrega in Mes_pedido:\n",
        "                Mes_pedido[mes_entrega] += 200\n",
        "            else:\n",
        "                Mes_pedido[mes_entrega] = 200\n",
        "\n",
        "        if Inv_F == 0:\n",
        "          IP = (Inv_I/2) * (Inv_I/Dem_ajust)\n",
        "          Inv_Prom = math.ceil(IP)\n",
        "        else:\n",
        "          IP = (Inv_I + Inv_F)/2\n",
        "          Inv_Prom = math.ceil(IP)\n",
        "\n",
        "        print(f\"Mes: {mes}, Dem_ajust: {Dem_ajust}, II: {Inv_I}, IF: {Inv_F}, Falt: {Faltante}, InvProm:{Inv_Prom}, Orden: {Ordenes}, Pedidos Pendientes: {Mes_pedido}\")\n",
        "\n",
        "        # Guardar los datos en las listas\n",
        "        Mes.append(mes)\n",
        "        Num_aleatorio.append(R)\n",
        "        Dem_ajustada.append(Dem_ajust)\n",
        "        Inv_final.append(Inv_F)\n",
        "        Faltantes.append(Faltante)\n",
        "        Num_orden.append(Ordenes)\n",
        "        Inv_promedio.append(Inv_Prom)\n",
        "\n",
        "        Inv_I = Inv_F - Faltante  # Ajustar Inv_I restando el faltante\n",
        "\n",
        "    data = {\n",
        "        'Mes': Mes,\n",
        "        'Inv_inicial': Inv_inicial,\n",
        "        'Num_aleatorio': Num_aleatorio,\n",
        "        'Dem_ajustada': Dem_ajustada,\n",
        "        'Inv_final': Inv_final,\n",
        "        'Faltantes': Faltantes,\n",
        "        'Num_orden': Num_orden,\n",
        "        'Inv_promedio': Inv_promedio\n",
        "    }\n",
        "\n",
        "    df = pd.DataFrame(data)\n",
        "\n",
        "    print(df.to_string(index=False))"
      ],
      "metadata": {
        "id": "6OYWQToppqWm"
      },
      "execution_count": 240,
      "outputs": []
    },
    {
      "cell_type": "code",
      "source": [
        "Inv_entario()"
      ],
      "metadata": {
        "colab": {
          "base_uri": "https://localhost:8080/"
        },
        "id": "NnAEMd90qOTH",
        "outputId": "d7289bbd-d764-4049-83bd-d90de5b72b50"
      },
      "execution_count": 241,
      "outputs": [
        {
          "output_type": "stream",
          "name": "stdout",
          "text": [
            "Mes: 1, Dem_ajust: 58, II: 150, IF: 92, Falt: 0, InvProm:121, Orden: 1, Pedidos Pendientes: {3: 200}\n",
            "Mes: 2, Dem_ajust: 47, II: 92, IF: 45, Falt: 0, InvProm:69, Orden: 2, Pedidos Pendientes: {3: 200, 4: 200}\n",
            "Mes: 3, Dem_ajust: 42, II: 245, IF: 203, Falt: 0, InvProm:224, Orden: 2, Pedidos Pendientes: {4: 200}\n",
            "Mes: 4, Dem_ajust: 41, II: 403, IF: 362, Falt: 0, InvProm:383, Orden: 2, Pedidos Pendientes: {}\n",
            "Mes: 5, Dem_ajust: 38, II: 362, IF: 324, Falt: 0, InvProm:343, Orden: 2, Pedidos Pendientes: {}\n",
            "Mes: 6, Dem_ajust: 32, II: 324, IF: 292, Falt: 0, InvProm:308, Orden: 2, Pedidos Pendientes: {}\n",
            "Mes: 7, Dem_ajust: 44, II: 292, IF: 248, Falt: 0, InvProm:270, Orden: 2, Pedidos Pendientes: {}\n",
            "Mes: 8, Dem_ajust: 41, II: 248, IF: 207, Falt: 0, InvProm:228, Orden: 2, Pedidos Pendientes: {}\n",
            "Mes: 9, Dem_ajust: 47, II: 207, IF: 160, Falt: 0, InvProm:184, Orden: 2, Pedidos Pendientes: {}\n",
            "Mes: 10, Dem_ajust: 60, II: 160, IF: 100, Falt: 0, InvProm:130, Orden: 2, Pedidos Pendientes: {}\n",
            "Mes: 11, Dem_ajust: 66, II: 100, IF: 34, Falt: 0, InvProm:67, Orden: 3, Pedidos Pendientes: {13: 200}\n",
            "Mes: 12, Dem_ajust: 74, II: 34, IF: 0, Falt: 40, InvProm:8, Orden: 4, Pedidos Pendientes: {13: 200, 15: 200}\n",
            " Mes  Inv_inicial  Num_aleatorio  Dem_ajustada  Inv_final  Faltantes  Num_orden  Inv_promedio\n",
            "   1          150       0.452907            58         92          0          1           121\n",
            "   2           92       0.323708            47         45          0          2            69\n",
            "   3           45       0.301246            42        203          0          2           224\n",
            "   4          203       0.690693            41        362          0          2           383\n",
            "   5          362       0.389455            38        324          0          2           343\n",
            "   6          324       0.287895            32        292          0          2           308\n",
            "   7          292       0.850397            44        248          0          2           270\n",
            "   8          248       0.259581            41        207          0          2           228\n",
            "   9          207       0.321288            47        160          0          2           184\n",
            "  10          160       0.541728            60        100          0          2           130\n",
            "  11          100       0.582315            66         34          0          3            67\n",
            "  12           34       0.754176            74          0         40          4             8\n"
          ]
        }
      ]
    }
  ]
}