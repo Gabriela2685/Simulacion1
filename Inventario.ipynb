{
  "nbformat": 4,
  "nbformat_minor": 0,
  "metadata": {
    "colab": {
      "provenance": [],
      "authorship_tag": "ABX9TyMF9Z486zHRKx+lpVF+A/Ei",
      "include_colab_link": true
    },
    "kernelspec": {
      "name": "python3",
      "display_name": "Python 3"
    },
    "language_info": {
      "name": "python"
    }
  },
  "cells": [
    {
      "cell_type": "markdown",
      "metadata": {
        "id": "view-in-github",
        "colab_type": "text"
      },
      "source": [
        "<a href=\"https://colab.research.google.com/github/Gabriela2685/Simulacion1/blob/main/Inventario.ipynb\" target=\"_parent\"><img src=\"https://colab.research.google.com/assets/colab-badge.svg\" alt=\"Open In Colab\"/></a>"
      ]
    },
    {
      "cell_type": "code",
      "execution_count": 19,
      "metadata": {
        "id": "9KKin5jECs0N"
      },
      "outputs": [],
      "source": [
        "import random as rnd\n",
        "import math"
      ]
    },
    {
      "cell_type": "code",
      "source": [
        "def asignar_valor(R, intervalos):\n",
        "  for inicio, fin, valor in intervalos:\n",
        "    if inicio <= R < fin:\n",
        "      return valor\n",
        "  return None"
      ],
      "metadata": {
        "id": "h3eIYk25p82k"
      },
      "execution_count": 48,
      "outputs": []
    },
    {
      "cell_type": "code",
      "source": [
        "def tiempo_entrega(R, T_entrega):\n",
        "  for inicio, fin, valor in T_entrega:\n",
        "    if inicio <= R < fin:\n",
        "      return valor\n",
        "  return None"
      ],
      "metadata": {
        "id": "6p3ciOx-qC3q"
      },
      "execution_count": 152,
      "outputs": []
    },
    {
      "cell_type": "code",
      "source": [
        "import random as rnd\n",
        "import math\n",
        "\n",
        "def asignar_valor(R, intervalos):\n",
        "    for intervalo in intervalos:\n",
        "        if intervalo[0] <= R < intervalo[1]:\n",
        "            return intervalo[2]\n",
        "    return intervalos[-1][2]\n",
        "\n",
        "def tiempo_entrega(R, T_entrega):\n",
        "    for intervalo in T_entrega:\n",
        "        if intervalo[0] <= R < intervalo[1]:\n",
        "            return intervalo[2]\n",
        "    return T_entrega[-1][2]\n",
        "\n",
        "def Inv_entario():\n",
        "    valores_meses = [\n",
        "        (1, 1.2), (2, 1.00), (3, 0.90), (4, 0.80),\n",
        "        (5, 0.80), (6, 0.70), (7, 0.80), (8, 0.90),\n",
        "        (9, 1.00), (10, 1.20), (11, 1.30), (12, 1.40)\n",
        "    ]\n",
        "\n",
        "    intervalos = [\n",
        "        (0.000, 0.010, 35), (0.010, 0.025, 36), (0.025, 0.045, 37),\n",
        "        (0.045, 0.065, 38), (0.065, 0.087, 39), (0.087, 0.110, 40),\n",
        "        (0.110, 0.135, 41), (0.135, 0.162, 42), (0.162, 0.190, 43),\n",
        "        (0.190, 0.219, 44), (0.219, 0.254, 45), (0.254, 0.299, 46),\n",
        "        (0.299, 0.359, 47), (0.359, 0.424, 48), (0.424, 0.494, 49),\n",
        "        (0.494, 0.574, 50), (0.574, 0.649, 51), (0.649, 0.719, 52),\n",
        "        (0.719, 0.784, 53), (0.784, 0.844, 54), (0.844, 0.894, 55),\n",
        "        (0.894, 0.934, 56), (0.934, 0.964, 57), (0.964, 0.980, 58),\n",
        "        (0.980, 0.995, 59), (0.995, 1.000, 60),\n",
        "    ]\n",
        "\n",
        "    T_entrega = [\n",
        "        (0.00, 0.30, 1), (0.30, 0.70, 2), (0.70, 1.00, 3),\n",
        "    ]\n",
        "\n",
        "    Inv_I = 150\n",
        "    Ordenes = 0\n",
        "    Pedido_pendiente = 0\n",
        "    Mes_pedido = {}\n",
        "    Faltante = 0\n",
        "\n",
        "    for mes, valor in valores_meses:\n",
        "        R = rnd.random()  # Generar un valor aleatorio R entre 0 y 1\n",
        "        x = asignar_valor(R, intervalos)\n",
        "        Dem_ajust = valor * x\n",
        "        Dem_ajust_red = math.floor(Dem_ajust)\n",
        "\n",
        "        if mes in Mes_pedido:\n",
        "            Inv_I += Mes_pedido[mes]\n",
        "            Pedido_pendiente -= Mes_pedido[mes]\n",
        "            del Mes_pedido[mes]\n",
        "\n",
        "        Inv_F = Inv_I - Dem_ajust_red\n",
        "\n",
        "        if Inv_F < 0:\n",
        "            Faltante += abs(Inv_F)\n",
        "            Inv_F = 0\n",
        "        else:\n",
        "            Faltante = 0  # Resetear faltante si no hay faltante\n",
        "\n",
        "        if Inv_F < 100:\n",
        "            Ordenes += 1\n",
        "            Pedido_pendiente += 200\n",
        "            t = tiempo_entrega(R, T_entrega)\n",
        "            mes_entrega = mes + t\n",
        "            if mes_entrega in Mes_pedido:\n",
        "                Mes_pedido[mes_entrega] += 200\n",
        "            else:\n",
        "                Mes_pedido[mes_entrega] = 200\n",
        "\n",
        "        print(f\"Mes: {mes}, Dem_ajust: {Dem_ajust_red}, II: {Inv_I}, IF: {Inv_F}, Falt: {Faltante}, Orden: {Ordenes}, T_ent: {t if Inv_F < 100 else 'N/A'}, Pedidos Pendientes: {Mes_pedido}\")\n",
        "\n",
        "        Inv_I = Inv_F - Faltante  # Ajustar Inv_I restando el faltante\n",
        "\n",
        "# Ejemplo de uso\n",
        "Inv_entario()\n"
      ],
      "metadata": {
        "colab": {
          "base_uri": "https://localhost:8080/"
        },
        "id": "GK6HVKeDTtSU",
        "outputId": "f4c7eb10-4850-473b-f6d7-e7e641ae9781"
      },
      "execution_count": 173,
      "outputs": [
        {
          "output_type": "stream",
          "name": "stdout",
          "text": [
            "Mes: 1, Dem_ajust: 64, II: 150, IF: 86, Falt: 0, Orden: 1, T_ent: 3, Pedidos Pendientes: {4: 200}\n",
            "Mes: 2, Dem_ajust: 58, II: 86, IF: 28, Falt: 0, Orden: 2, T_ent: 3, Pedidos Pendientes: {4: 200, 5: 200}\n",
            "Mes: 3, Dem_ajust: 54, II: 28, IF: 0, Falt: 26, Orden: 3, T_ent: 3, Pedidos Pendientes: {4: 200, 5: 200, 6: 200}\n",
            "Mes: 4, Dem_ajust: 35, II: 174, IF: 139, Falt: 0, Orden: 3, T_ent: N/A, Pedidos Pendientes: {5: 200, 6: 200}\n",
            "Mes: 5, Dem_ajust: 40, II: 339, IF: 299, Falt: 0, Orden: 3, T_ent: N/A, Pedidos Pendientes: {6: 200}\n",
            "Mes: 6, Dem_ajust: 36, II: 499, IF: 463, Falt: 0, Orden: 3, T_ent: N/A, Pedidos Pendientes: {}\n",
            "Mes: 7, Dem_ajust: 34, II: 463, IF: 429, Falt: 0, Orden: 3, T_ent: N/A, Pedidos Pendientes: {}\n",
            "Mes: 8, Dem_ajust: 46, II: 429, IF: 383, Falt: 0, Orden: 3, T_ent: N/A, Pedidos Pendientes: {}\n",
            "Mes: 9, Dem_ajust: 47, II: 383, IF: 336, Falt: 0, Orden: 3, T_ent: N/A, Pedidos Pendientes: {}\n",
            "Mes: 10, Dem_ajust: 48, II: 336, IF: 288, Falt: 0, Orden: 3, T_ent: N/A, Pedidos Pendientes: {}\n",
            "Mes: 11, Dem_ajust: 74, II: 288, IF: 214, Falt: 0, Orden: 3, T_ent: N/A, Pedidos Pendientes: {}\n",
            "Mes: 12, Dem_ajust: 78, II: 214, IF: 136, Falt: 0, Orden: 3, T_ent: N/A, Pedidos Pendientes: {}\n"
          ]
        }
      ]
    }
  ]
}